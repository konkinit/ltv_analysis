{
 "cells": [
  {
   "cell_type": "code",
   "execution_count": 1,
   "metadata": {},
   "outputs": [],
   "source": [
    "import os\n",
    "import numpy as np\n",
    "import datetime as dt\n",
    "import seaborn as sns\n",
    "import matplotlib.pyplot as plt\n",
    "import pandas as pd\n",
    "from pymc_marketing import clv\n",
    "os.chdir(\"../\")\n",
    "from src.data import (\n",
    "    getDataset,\n",
    "    ProcessData\n",
    ")\n",
    "from src.config import RawFeatures, RFM\n",
    "from src.models import BetaGeoModel\n",
    "from src.utils import get_customer_history_data, get_customer_whatif_data"
   ]
  },
  {
   "cell_type": "code",
   "execution_count": 2,
   "metadata": {},
   "outputs": [],
   "source": [
    "import arviz as az\n",
    "from arviz.labels import MapLabeller"
   ]
  },
  {
   "cell_type": "code",
   "execution_count": 3,
   "metadata": {},
   "outputs": [],
   "source": [
    "az.style.use(\"arviz-darkgrid\")\n",
    "%config InlineBackend.figure_format = \"retina\""
   ]
  },
  {
   "cell_type": "code",
   "execution_count": 4,
   "metadata": {},
   "outputs": [],
   "source": [
    "dt_format_, _dt_format= '%d/%m/%Y %H:%M', '%Y-%m-%d %H:%M'\n",
    "df_transaction = getDataset()\n",
    "df_transaction[RawFeatures.TRANSACTION_DATE] = df_transaction[RawFeatures.TRANSACTION_DATE].apply(\n",
    "                                                    lambda x: dt.datetime.strptime(x, dt_format_).strftime(_dt_format) if x==x else x)"
   ]
  },
  {
   "cell_type": "code",
   "execution_count": 5,
   "metadata": {},
   "outputs": [
    {
     "data": {
      "text/html": [
       "<div>\n",
       "<style scoped>\n",
       "    .dataframe tbody tr th:only-of-type {\n",
       "        vertical-align: middle;\n",
       "    }\n",
       "\n",
       "    .dataframe tbody tr th {\n",
       "        vertical-align: top;\n",
       "    }\n",
       "\n",
       "    .dataframe thead th {\n",
       "        text-align: right;\n",
       "    }\n",
       "</style>\n",
       "<table border=\"1\" class=\"dataframe\">\n",
       "  <thead>\n",
       "    <tr style=\"text-align: right;\">\n",
       "      <th></th>\n",
       "      <th>Customer ID</th>\n",
       "      <th>InvoiceDate</th>\n",
       "      <th>Price</th>\n",
       "      <th>Quantity</th>\n",
       "    </tr>\n",
       "  </thead>\n",
       "  <tbody>\n",
       "    <tr>\n",
       "      <th>0</th>\n",
       "      <td>13085.0</td>\n",
       "      <td>2009-12-01 07:45</td>\n",
       "      <td>6.95</td>\n",
       "      <td>12.0</td>\n",
       "    </tr>\n",
       "    <tr>\n",
       "      <th>1</th>\n",
       "      <td>13085.0</td>\n",
       "      <td>2009-12-01 07:45</td>\n",
       "      <td>6.75</td>\n",
       "      <td>12.0</td>\n",
       "    </tr>\n",
       "    <tr>\n",
       "      <th>2</th>\n",
       "      <td>13085.0</td>\n",
       "      <td>2009-12-01 07:45</td>\n",
       "      <td>6.75</td>\n",
       "      <td>12.0</td>\n",
       "    </tr>\n",
       "    <tr>\n",
       "      <th>3</th>\n",
       "      <td>13085.0</td>\n",
       "      <td>2009-12-01 07:45</td>\n",
       "      <td>2.10</td>\n",
       "      <td>48.0</td>\n",
       "    </tr>\n",
       "    <tr>\n",
       "      <th>4</th>\n",
       "      <td>13085.0</td>\n",
       "      <td>2009-12-01 07:45</td>\n",
       "      <td>1.25</td>\n",
       "      <td>24.0</td>\n",
       "    </tr>\n",
       "  </tbody>\n",
       "</table>\n",
       "</div>"
      ],
      "text/plain": [
       "   Customer ID       InvoiceDate  Price  Quantity\n",
       "0      13085.0  2009-12-01 07:45   6.95      12.0\n",
       "1      13085.0  2009-12-01 07:45   6.75      12.0\n",
       "2      13085.0  2009-12-01 07:45   6.75      12.0\n",
       "3      13085.0  2009-12-01 07:45   2.10      48.0\n",
       "4      13085.0  2009-12-01 07:45   1.25      24.0"
      ]
     },
     "execution_count": 5,
     "metadata": {},
     "output_type": "execute_result"
    }
   ],
   "source": [
    "df_transaction.head()"
   ]
  },
  {
   "cell_type": "code",
   "execution_count": 6,
   "metadata": {},
   "outputs": [
    {
     "data": {
      "text/html": [
       "<div>\n",
       "<style scoped>\n",
       "    .dataframe tbody tr th:only-of-type {\n",
       "        vertical-align: middle;\n",
       "    }\n",
       "\n",
       "    .dataframe tbody tr th {\n",
       "        vertical-align: top;\n",
       "    }\n",
       "\n",
       "    .dataframe thead th {\n",
       "        text-align: right;\n",
       "    }\n",
       "</style>\n",
       "<table border=\"1\" class=\"dataframe\">\n",
       "  <thead>\n",
       "    <tr style=\"text-align: right;\">\n",
       "      <th></th>\n",
       "      <th>frequency</th>\n",
       "      <th>recency</th>\n",
       "      <th>T</th>\n",
       "      <th>monetary_value</th>\n",
       "    </tr>\n",
       "    <tr>\n",
       "      <th>Customer ID</th>\n",
       "      <th></th>\n",
       "      <th></th>\n",
       "      <th></th>\n",
       "      <th></th>\n",
       "    </tr>\n",
       "  </thead>\n",
       "  <tbody>\n",
       "    <tr>\n",
       "      <th>12346.0</th>\n",
       "      <td>7.0</td>\n",
       "      <td>400.0</td>\n",
       "      <td>725.0</td>\n",
       "      <td>11066.637143</td>\n",
       "    </tr>\n",
       "    <tr>\n",
       "      <th>12745.0</th>\n",
       "      <td>1.0</td>\n",
       "      <td>88.0</td>\n",
       "      <td>574.0</td>\n",
       "      <td>266.930000</td>\n",
       "    </tr>\n",
       "    <tr>\n",
       "      <th>12747.0</th>\n",
       "      <td>25.0</td>\n",
       "      <td>730.0</td>\n",
       "      <td>732.0</td>\n",
       "      <td>355.835600</td>\n",
       "    </tr>\n",
       "    <tr>\n",
       "      <th>12748.0</th>\n",
       "      <td>202.0</td>\n",
       "      <td>735.0</td>\n",
       "      <td>735.0</td>\n",
       "      <td>279.101436</td>\n",
       "    </tr>\n",
       "    <tr>\n",
       "      <th>12749.0</th>\n",
       "      <td>6.0</td>\n",
       "      <td>518.0</td>\n",
       "      <td>521.0</td>\n",
       "      <td>1010.743333</td>\n",
       "    </tr>\n",
       "  </tbody>\n",
       "</table>\n",
       "</div>"
      ],
      "text/plain": [
       "             frequency  recency      T  monetary_value\n",
       "Customer ID                                           \n",
       "12346.0            7.0    400.0  725.0    11066.637143\n",
       "12745.0            1.0     88.0  574.0      266.930000\n",
       "12747.0           25.0    730.0  732.0      355.835600\n",
       "12748.0          202.0    735.0  735.0      279.101436\n",
       "12749.0            6.0    518.0  521.0     1010.743333"
      ]
     },
     "execution_count": 6,
     "metadata": {},
     "output_type": "execute_result"
    }
   ],
   "source": [
    "data_inst = ProcessData(df_transaction, 'D', '2011-06-30')\n",
    "data_summary = data_inst.model_data()\n",
    "data_summary.head()"
   ]
  },
  {
   "cell_type": "code",
   "execution_count": 7,
   "metadata": {},
   "outputs": [
    {
     "data": {
      "text/plain": [
       "(3820, 4)"
      ]
     },
     "execution_count": 7,
     "metadata": {},
     "output_type": "execute_result"
    }
   ],
   "source": [
    "data_summary.shape"
   ]
  },
  {
   "cell_type": "code",
   "execution_count": 8,
   "metadata": {},
   "outputs": [
    {
     "data": {
      "text/html": [
       "<div>\n",
       "<style scoped>\n",
       "    .dataframe tbody tr th:only-of-type {\n",
       "        vertical-align: middle;\n",
       "    }\n",
       "\n",
       "    .dataframe tbody tr th {\n",
       "        vertical-align: top;\n",
       "    }\n",
       "\n",
       "    .dataframe thead th {\n",
       "        text-align: right;\n",
       "    }\n",
       "</style>\n",
       "<table border=\"1\" class=\"dataframe\">\n",
       "  <thead>\n",
       "    <tr style=\"text-align: right;\">\n",
       "      <th></th>\n",
       "      <th>frequency</th>\n",
       "      <th>recency</th>\n",
       "      <th>T</th>\n",
       "      <th>monetary_value</th>\n",
       "    </tr>\n",
       "  </thead>\n",
       "  <tbody>\n",
       "    <tr>\n",
       "      <th>mean</th>\n",
       "      <td>6.490052</td>\n",
       "      <td>386.782461</td>\n",
       "      <td>526.574346</td>\n",
       "      <td>422.646958</td>\n",
       "    </tr>\n",
       "    <tr>\n",
       "      <th>std</th>\n",
       "      <td>10.721823</td>\n",
       "      <td>227.335755</td>\n",
       "      <td>201.691737</td>\n",
       "      <td>2771.151697</td>\n",
       "    </tr>\n",
       "    <tr>\n",
       "      <th>min</th>\n",
       "      <td>1.000000</td>\n",
       "      <td>1.000000</td>\n",
       "      <td>9.000000</td>\n",
       "      <td>3.900000</td>\n",
       "    </tr>\n",
       "    <tr>\n",
       "      <th>50%</th>\n",
       "      <td>3.000000</td>\n",
       "      <td>389.000000</td>\n",
       "      <td>592.000000</td>\n",
       "      <td>300.305000</td>\n",
       "    </tr>\n",
       "    <tr>\n",
       "      <th>max</th>\n",
       "      <td>202.000000</td>\n",
       "      <td>738.000000</td>\n",
       "      <td>738.000000</td>\n",
       "      <td>168469.600000</td>\n",
       "    </tr>\n",
       "  </tbody>\n",
       "</table>\n",
       "</div>"
      ],
      "text/plain": [
       "       frequency     recency           T  monetary_value\n",
       "mean    6.490052  386.782461  526.574346      422.646958\n",
       "std    10.721823  227.335755  201.691737     2771.151697\n",
       "min     1.000000    1.000000    9.000000        3.900000\n",
       "50%     3.000000  389.000000  592.000000      300.305000\n",
       "max   202.000000  738.000000  738.000000   168469.600000"
      ]
     },
     "execution_count": 8,
     "metadata": {},
     "output_type": "execute_result"
    }
   ],
   "source": [
    "data_summary.describe().iloc[[1, 2, 3, 5, 7], :]"
   ]
  },
  {
   "cell_type": "code",
   "execution_count": 9,
   "metadata": {},
   "outputs": [
    {
     "data": {
      "text/plain": [
       "RFM(max_recency=0.0, max_T=0.0, date_last_purchase=datetime.date(2023, 4, 29))"
      ]
     },
     "execution_count": 9,
     "metadata": {},
     "output_type": "execute_result"
    }
   ],
   "source": [
    "RFM()"
   ]
  },
  {
   "attachments": {},
   "cell_type": "markdown",
   "metadata": {},
   "source": [
    "# Modeling\n"
   ]
  },
  {
   "cell_type": "code",
   "execution_count": 10,
   "metadata": {},
   "outputs": [
    {
     "name": "stderr",
     "output_type": "stream",
     "text": [
      "Auto-assigning NUTS sampler...\n",
      "Initializing NUTS using jitter+adapt_diag...\n",
      "Initializing NUTS using jitter+adapt_diag...\n"
     ]
    },
    {
     "name": "stderr",
     "output_type": "stream",
     "text": [
      "Sampling 4 chains for 1_000 tune and 1_000 draw iterations (4_000 + 4_000 draws total) took 38 seconds.\n"
     ]
    },
    {
     "data": {
      "text/html": [
       "<div>\n",
       "<style scoped>\n",
       "    .dataframe tbody tr th:only-of-type {\n",
       "        vertical-align: middle;\n",
       "    }\n",
       "\n",
       "    .dataframe tbody tr th {\n",
       "        vertical-align: top;\n",
       "    }\n",
       "\n",
       "    .dataframe thead th {\n",
       "        text-align: right;\n",
       "    }\n",
       "</style>\n",
       "<table border=\"1\" class=\"dataframe\">\n",
       "  <thead>\n",
       "    <tr style=\"text-align: right;\">\n",
       "      <th></th>\n",
       "      <th>mean</th>\n",
       "      <th>sd</th>\n",
       "      <th>hdi_3%</th>\n",
       "      <th>hdi_97%</th>\n",
       "      <th>mcse_mean</th>\n",
       "      <th>mcse_sd</th>\n",
       "      <th>ess_bulk</th>\n",
       "      <th>ess_tail</th>\n",
       "      <th>r_hat</th>\n",
       "    </tr>\n",
       "  </thead>\n",
       "  <tbody>\n",
       "    <tr>\n",
       "      <th>a</th>\n",
       "      <td>0.114</td>\n",
       "      <td>0.012</td>\n",
       "      <td>0.090</td>\n",
       "      <td>0.136</td>\n",
       "      <td>0.000</td>\n",
       "      <td>0.000</td>\n",
       "      <td>2071.0</td>\n",
       "      <td>2031.0</td>\n",
       "      <td>1.0</td>\n",
       "    </tr>\n",
       "    <tr>\n",
       "      <th>b</th>\n",
       "      <td>1.285</td>\n",
       "      <td>0.198</td>\n",
       "      <td>0.943</td>\n",
       "      <td>1.660</td>\n",
       "      <td>0.005</td>\n",
       "      <td>0.003</td>\n",
       "      <td>2005.0</td>\n",
       "      <td>1833.0</td>\n",
       "      <td>1.0</td>\n",
       "    </tr>\n",
       "    <tr>\n",
       "      <th>alpha</th>\n",
       "      <td>95.880</td>\n",
       "      <td>3.018</td>\n",
       "      <td>90.279</td>\n",
       "      <td>101.432</td>\n",
       "      <td>0.068</td>\n",
       "      <td>0.048</td>\n",
       "      <td>1978.0</td>\n",
       "      <td>2004.0</td>\n",
       "      <td>1.0</td>\n",
       "    </tr>\n",
       "    <tr>\n",
       "      <th>r</th>\n",
       "      <td>1.434</td>\n",
       "      <td>0.039</td>\n",
       "      <td>1.363</td>\n",
       "      <td>1.510</td>\n",
       "      <td>0.001</td>\n",
       "      <td>0.001</td>\n",
       "      <td>2073.0</td>\n",
       "      <td>2235.0</td>\n",
       "      <td>1.0</td>\n",
       "    </tr>\n",
       "  </tbody>\n",
       "</table>\n",
       "</div>"
      ],
      "text/plain": [
       "         mean     sd  hdi_3%  hdi_97%  mcse_mean  mcse_sd  ess_bulk  ess_tail  \\\n",
       "a       0.114  0.012   0.090    0.136      0.000    0.000    2071.0    2031.0   \n",
       "b       1.285  0.198   0.943    1.660      0.005    0.003    2005.0    1833.0   \n",
       "alpha  95.880  3.018  90.279  101.432      0.068    0.048    1978.0    2004.0   \n",
       "r       1.434  0.039   1.363    1.510      0.001    0.001    2073.0    2235.0   \n",
       "\n",
       "       r_hat  \n",
       "a        1.0  \n",
       "b        1.0  \n",
       "alpha    1.0  \n",
       "r        1.0  "
      ]
     },
     "execution_count": 10,
     "metadata": {},
     "output_type": "execute_result"
    }
   ],
   "source": [
    "bgm = BetaGeoModel(data_summary)\n",
    "bgm.fit()\n",
    "bgm.fit_summary()"
   ]
  },
  {
   "cell_type": "code",
   "execution_count": null,
   "metadata": {},
   "outputs": [],
   "source": []
  },
  {
   "attachments": {},
   "cell_type": "markdown",
   "metadata": {},
   "source": [
    "# Plots"
   ]
  },
  {
   "cell_type": "code",
   "execution_count": 11,
   "metadata": {},
   "outputs": [
    {
     "data": {
      "text/plain": [
       "'az.plot_posterior(bgm.fit_result);'"
      ]
     },
     "execution_count": 11,
     "metadata": {},
     "output_type": "execute_result"
    }
   ],
   "source": [
    "\"\"\"az.plot_posterior(bgm.fit_result);\"\"\""
   ]
  },
  {
   "cell_type": "code",
   "execution_count": 12,
   "metadata": {},
   "outputs": [
    {
     "data": {
      "text/plain": [
       "'clv.plot_probability_alive_matrix(bgm)\\nplt.show()'"
      ]
     },
     "execution_count": 12,
     "metadata": {},
     "output_type": "execute_result"
    }
   ],
   "source": [
    "\"\"\"clv.plot_probability_alive_matrix(bgm)\n",
    "plt.show()\"\"\""
   ]
  },
  {
   "cell_type": "code",
   "execution_count": 13,
   "metadata": {},
   "outputs": [],
   "source": [
    "customer_id = 12749.0\n",
    "n_period = 14\n",
    "T_future_transac = 10"
   ]
  },
  {
   "cell_type": "code",
   "execution_count": 14,
   "metadata": {},
   "outputs": [],
   "source": [
    "# T_, customer_history = get_customer_history_data(data_summary, customer_id, n_period)\n",
    "T_, customer_history = get_customer_whatif_data(\n",
    "                            data_summary, customer_id, n_period, T_future_transac\n",
    "                            )\n",
    "# customer_history"
   ]
  },
  {
   "cell_type": "code",
   "execution_count": 15,
   "metadata": {},
   "outputs": [
    {
     "ename": "ValueError",
     "evalue": "\n    Invalid value of type 'builtins.bool' received for the 'marker' property of scatter\n        Received value: True\n\n    The 'marker' property is an instance of Marker\n    that may be specified as:\n      - An instance of :class:`plotly.graph_objs.scatter.Marker`\n      - A dict of string/value properties that will be passed\n        to the Marker constructor\n\n        Supported dict properties:\n            \n            angle\n                Sets the marker angle in respect to `angleref`.\n            angleref\n                Sets the reference for marker angle. With\n                \"previous\", angle 0 points along the line from\n                the previous point to this one. With \"up\",\n                angle 0 points toward the top of the screen.\n            anglesrc\n                Sets the source reference on Chart Studio Cloud\n                for `angle`.\n            autocolorscale\n                Determines whether the colorscale is a default\n                palette (`autocolorscale: true`) or the palette\n                determined by `marker.colorscale`. Has an\n                effect only if in `marker.color` is set to a\n                numerical array. In case `colorscale` is\n                unspecified or `autocolorscale` is true, the\n                default palette will be chosen according to\n                whether numbers in the `color` array are all\n                positive, all negative or mixed.\n            cauto\n                Determines whether or not the color domain is\n                computed with respect to the input data (here\n                in `marker.color`) or the bounds set in\n                `marker.cmin` and `marker.cmax` Has an effect\n                only if in `marker.color` is set to a numerical\n                array. Defaults to `false` when `marker.cmin`\n                and `marker.cmax` are set by the user.\n            cmax\n                Sets the upper bound of the color domain. Has\n                an effect only if in `marker.color` is set to a\n                numerical array. Value should have the same\n                units as in `marker.color` and if set,\n                `marker.cmin` must be set as well.\n            cmid\n                Sets the mid-point of the color domain by\n                scaling `marker.cmin` and/or `marker.cmax` to\n                be equidistant to this point. Has an effect\n                only if in `marker.color` is set to a numerical\n                array. Value should have the same units as in\n                `marker.color`. Has no effect when\n                `marker.cauto` is `false`.\n            cmin\n                Sets the lower bound of the color domain. Has\n                an effect only if in `marker.color` is set to a\n                numerical array. Value should have the same\n                units as in `marker.color` and if set,\n                `marker.cmax` must be set as well.\n            color\n                Sets the marker color. It accepts either a\n                specific color or an array of numbers that are\n                mapped to the colorscale relative to the max\n                and min values of the array or relative to\n                `marker.cmin` and `marker.cmax` if set.\n            coloraxis\n                Sets a reference to a shared color axis.\n                References to these shared color axes are\n                \"coloraxis\", \"coloraxis2\", \"coloraxis3\", etc.\n                Settings for these shared color axes are set in\n                the layout, under `layout.coloraxis`,\n                `layout.coloraxis2`, etc. Note that multiple\n                color scales can be linked to the same color\n                axis.\n            colorbar\n                :class:`plotly.graph_objects.scatter.marker.Col\n                orBar` instance or dict with compatible\n                properties\n            colorscale\n                Sets the colorscale. Has an effect only if in\n                `marker.color` is set to a numerical array. The\n                colorscale must be an array containing arrays\n                mapping a normalized value to an rgb, rgba,\n                hex, hsl, hsv, or named color string. At\n                minimum, a mapping for the lowest (0) and\n                highest (1) values are required. For example,\n                `[[0, 'rgb(0,0,255)'], [1, 'rgb(255,0,0)']]`.\n                To control the bounds of the colorscale in\n                color space, use `marker.cmin` and\n                `marker.cmax`. Alternatively, `colorscale` may\n                be a palette name string of the following list:\n                Blackbody,Bluered,Blues,Cividis,Earth,Electric,\n                Greens,Greys,Hot,Jet,Picnic,Portland,Rainbow,Rd\n                Bu,Reds,Viridis,YlGnBu,YlOrRd.\n            colorsrc\n                Sets the source reference on Chart Studio Cloud\n                for `color`.\n            gradient\n                :class:`plotly.graph_objects.scatter.marker.Gra\n                dient` instance or dict with compatible\n                properties\n            line\n                :class:`plotly.graph_objects.scatter.marker.Lin\n                e` instance or dict with compatible properties\n            maxdisplayed\n                Sets a maximum number of points to be drawn on\n                the graph. 0 corresponds to no limit.\n            opacity\n                Sets the marker opacity.\n            opacitysrc\n                Sets the source reference on Chart Studio Cloud\n                for `opacity`.\n            reversescale\n                Reverses the color mapping if true. Has an\n                effect only if in `marker.color` is set to a\n                numerical array. If true, `marker.cmin` will\n                correspond to the last color in the array and\n                `marker.cmax` will correspond to the first\n                color.\n            showscale\n                Determines whether or not a colorbar is\n                displayed for this trace. Has an effect only if\n                in `marker.color` is set to a numerical array.\n            size\n                Sets the marker size (in px).\n            sizemin\n                Has an effect only if `marker.size` is set to a\n                numerical array. Sets the minimum size (in px)\n                of the rendered marker points.\n            sizemode\n                Has an effect only if `marker.size` is set to a\n                numerical array. Sets the rule for which the\n                data in `size` is converted to pixels.\n            sizeref\n                Has an effect only if `marker.size` is set to a\n                numerical array. Sets the scale factor used to\n                determine the rendered size of marker points.\n                Use with `sizemin` and `sizemode`.\n            sizesrc\n                Sets the source reference on Chart Studio Cloud\n                for `size`.\n            standoff\n                Moves the marker away from the data point in\n                the direction of `angle` (in px). This can be\n                useful for example if you have another marker\n                at this location and you want to point an\n                arrowhead marker at it.\n            standoffsrc\n                Sets the source reference on Chart Studio Cloud\n                for `standoff`.\n            symbol\n                Sets the marker symbol type. Adding 100 is\n                equivalent to appending \"-open\" to a symbol\n                name. Adding 200 is equivalent to appending\n                \"-dot\" to a symbol name. Adding 300 is\n                equivalent to appending \"-open-dot\" or \"dot-\n                open\" to a symbol name.\n            symbolsrc\n                Sets the source reference on Chart Studio Cloud\n                for `symbol`.\n",
     "output_type": "error",
     "traceback": [
      "\u001b[0;31m---------------------------------------------------------------------------\u001b[0m",
      "\u001b[0;31mValueError\u001b[0m                                Traceback (most recent call last)",
      "Cell \u001b[0;32mIn[15], line 1\u001b[0m\n\u001b[0;32m----> 1\u001b[0m bgm\u001b[39m.\u001b[39;49mplot_probability_alive(\n\u001b[1;32m      2\u001b[0m     customer_id,\n\u001b[1;32m      3\u001b[0m     n_period,\n\u001b[1;32m      4\u001b[0m     [\u001b[39m1500\u001b[39;49m, \u001b[39m700\u001b[39;49m],\n\u001b[1;32m      5\u001b[0m     T_future_transac\n\u001b[1;32m      6\u001b[0m )\n",
      "File \u001b[0;32m~/work/ltv_analysis/src/models/bg_nbd.py:94\u001b[0m, in \u001b[0;36mBetaGeoModel.plot_probability_alive\u001b[0;34m(self, customer_id, n_period, fig_dim, *args)\u001b[0m\n\u001b[1;32m     73\u001b[0m T_, customer_history \u001b[39m=\u001b[39m get_customer_whatif_data(\n\u001b[1;32m     74\u001b[0m                         \u001b[39mself\u001b[39m\u001b[39m.\u001b[39mdata,\n\u001b[1;32m     75\u001b[0m                         customer_id,\n\u001b[0;32m   (...)\u001b[0m\n\u001b[1;32m     81\u001b[0m                                         n_period\n\u001b[1;32m     82\u001b[0m                                     )\n\u001b[1;32m     83\u001b[0m (\n\u001b[1;32m     84\u001b[0m     alive_proba_study_time,\n\u001b[1;32m     85\u001b[0m     min_p_alive_,\n\u001b[0;32m   (...)\u001b[0m\n\u001b[1;32m     90\u001b[0m         customer_history\n\u001b[1;32m     91\u001b[0m     )\n\u001b[1;32m     93\u001b[0m fig \u001b[39m=\u001b[39m go\u001b[39m.\u001b[39mFigure([\n\u001b[0;32m---> 94\u001b[0m         go\u001b[39m.\u001b[39;49mScatter(\n\u001b[1;32m     95\u001b[0m             x\u001b[39m=\u001b[39;49mcustomer_history[RawFeatures\u001b[39m.\u001b[39;49mT],\n\u001b[1;32m     96\u001b[0m             y\u001b[39m=\u001b[39;49mp_alive_xarray\u001b[39m.\u001b[39;49mmedian((\u001b[39m\"\u001b[39;49m\u001b[39mdraw\u001b[39;49m\u001b[39m\"\u001b[39;49m, \u001b[39m\"\u001b[39;49m\u001b[39mchain\u001b[39;49m\u001b[39m\"\u001b[39;49m)),\n\u001b[1;32m     97\u001b[0m             width\u001b[39m=\u001b[39;49m\u001b[39m4\u001b[39;49m,\n\u001b[1;32m     98\u001b[0m             marker\u001b[39m=\u001b[39;49m\u001b[39mTrue\u001b[39;49;00m,\n\u001b[1;32m     99\u001b[0m         ),\n\u001b[1;32m    100\u001b[0m         go\u001b[39m.\u001b[39mScatter(\n\u001b[1;32m    101\u001b[0m             x\u001b[39m=\u001b[39m\u001b[39mlist\u001b[39m(\n\u001b[1;32m    102\u001b[0m                 customer_history[RawFeatures\u001b[39m.\u001b[39mT]\n\u001b[1;32m    103\u001b[0m               )\u001b[39m+\u001b[39m\u001b[39mlist\u001b[39m(\n\u001b[1;32m    104\u001b[0m                     customer_history[RawFeatures\u001b[39m.\u001b[39mT][::\u001b[39m-\u001b[39m\u001b[39m1\u001b[39m]\n\u001b[1;32m    105\u001b[0m                 ),\n\u001b[1;32m    106\u001b[0m             y\u001b[39m=\u001b[39m\u001b[39mlist\u001b[39m(max_p_alive_)\u001b[39m+\u001b[39m\u001b[39mlist\u001b[39m(min_p_alive_[::\u001b[39m-\u001b[39m\u001b[39m1\u001b[39m]),\n\u001b[1;32m    107\u001b[0m             fill\u001b[39m=\u001b[39m\u001b[39m'\u001b[39m\u001b[39mtoself\u001b[39m\u001b[39m'\u001b[39m,\n\u001b[1;32m    108\u001b[0m             hoverinfo\u001b[39m=\u001b[39m\u001b[39m'\u001b[39m\u001b[39mskip\u001b[39m\u001b[39m'\u001b[39m,\n\u001b[1;32m    109\u001b[0m             showlegend\u001b[39m=\u001b[39m\u001b[39mFalse\u001b[39;00m,\n\u001b[1;32m    110\u001b[0m         )\n\u001b[1;32m    111\u001b[0m     ])\n\u001b[1;32m    112\u001b[0m fig\u001b[39m.\u001b[39mupdate_layout(\n\u001b[1;32m    113\u001b[0m     xaxis_title\u001b[39m=\u001b[39m\u001b[39m\"\u001b[39m\u001b[39mT\u001b[39m\u001b[39m\"\u001b[39m,\n\u001b[1;32m    114\u001b[0m     yaxis_title\u001b[39m=\u001b[39m\u001b[39m\"\u001b[39m\u001b[39mprobability\u001b[39m\u001b[39m\"\u001b[39m,\n\u001b[0;32m   (...)\u001b[0m\n\u001b[1;32m    118\u001b[0m     height\u001b[39m=\u001b[39mfig_dim[\u001b[39m1\u001b[39m],\n\u001b[1;32m    119\u001b[0m )\n\u001b[1;32m    120\u001b[0m fig\u001b[39m.\u001b[39madd_vline(\n\u001b[1;32m    121\u001b[0m     x\u001b[39m=\u001b[39mT_,\n\u001b[1;32m    122\u001b[0m     line_width\u001b[39m=\u001b[39m\u001b[39m3\u001b[39m,\n\u001b[0;32m   (...)\u001b[0m\n\u001b[1;32m    125\u001b[0m     annotation_text\u001b[39m=\u001b[39m\u001b[39m\"\u001b[39m\u001b[39mInstant t\u001b[39m\u001b[39m\"\u001b[39m\n\u001b[1;32m    126\u001b[0m )\n",
      "File \u001b[0;32m/opt/mamba/lib/python3.10/site-packages/plotly/graph_objs/_scatter.py:3335\u001b[0m, in \u001b[0;36mScatter.__init__\u001b[0;34m(self, arg, alignmentgroup, cliponaxis, connectgaps, customdata, customdatasrc, dx, dy, error_x, error_y, fill, fillcolor, fillpattern, groupnorm, hoverinfo, hoverinfosrc, hoverlabel, hoveron, hovertemplate, hovertemplatesrc, hovertext, hovertextsrc, ids, idssrc, legendgroup, legendgrouptitle, legendrank, legendwidth, line, marker, meta, metasrc, mode, name, offsetgroup, opacity, orientation, selected, selectedpoints, showlegend, stackgaps, stackgroup, stream, text, textfont, textposition, textpositionsrc, textsrc, texttemplate, texttemplatesrc, uid, uirevision, unselected, visible, x, x0, xaxis, xcalendar, xhoverformat, xperiod, xperiod0, xperiodalignment, xsrc, y, y0, yaxis, ycalendar, yhoverformat, yperiod, yperiod0, yperiodalignment, ysrc, **kwargs)\u001b[0m\n\u001b[1;32m   3333\u001b[0m _v \u001b[39m=\u001b[39m marker \u001b[39mif\u001b[39;00m marker \u001b[39mis\u001b[39;00m \u001b[39mnot\u001b[39;00m \u001b[39mNone\u001b[39;00m \u001b[39melse\u001b[39;00m _v\n\u001b[1;32m   3334\u001b[0m \u001b[39mif\u001b[39;00m _v \u001b[39mis\u001b[39;00m \u001b[39mnot\u001b[39;00m \u001b[39mNone\u001b[39;00m:\n\u001b[0;32m-> 3335\u001b[0m     \u001b[39mself\u001b[39;49m[\u001b[39m\"\u001b[39;49m\u001b[39mmarker\u001b[39;49m\u001b[39m\"\u001b[39;49m] \u001b[39m=\u001b[39m _v\n\u001b[1;32m   3336\u001b[0m _v \u001b[39m=\u001b[39m arg\u001b[39m.\u001b[39mpop(\u001b[39m\"\u001b[39m\u001b[39mmeta\u001b[39m\u001b[39m\"\u001b[39m, \u001b[39mNone\u001b[39;00m)\n\u001b[1;32m   3337\u001b[0m _v \u001b[39m=\u001b[39m meta \u001b[39mif\u001b[39;00m meta \u001b[39mis\u001b[39;00m \u001b[39mnot\u001b[39;00m \u001b[39mNone\u001b[39;00m \u001b[39melse\u001b[39;00m _v\n",
      "File \u001b[0;32m/opt/mamba/lib/python3.10/site-packages/plotly/basedatatypes.py:4842\u001b[0m, in \u001b[0;36mBasePlotlyType.__setitem__\u001b[0;34m(self, prop, value)\u001b[0m\n\u001b[1;32m   4840\u001b[0m \u001b[39m# ### Handle compound property ###\u001b[39;00m\n\u001b[1;32m   4841\u001b[0m \u001b[39mif\u001b[39;00m \u001b[39misinstance\u001b[39m(validator, CompoundValidator):\n\u001b[0;32m-> 4842\u001b[0m     \u001b[39mself\u001b[39;49m\u001b[39m.\u001b[39;49m_set_compound_prop(prop, value)\n\u001b[1;32m   4844\u001b[0m \u001b[39m# ### Handle compound array property ###\u001b[39;00m\n\u001b[1;32m   4845\u001b[0m \u001b[39melif\u001b[39;00m \u001b[39misinstance\u001b[39m(validator, (CompoundArrayValidator, BaseDataValidator)):\n",
      "File \u001b[0;32m/opt/mamba/lib/python3.10/site-packages/plotly/basedatatypes.py:5253\u001b[0m, in \u001b[0;36mBasePlotlyType._set_compound_prop\u001b[0;34m(self, prop, val)\u001b[0m\n\u001b[1;32m   5250\u001b[0m \u001b[39m# Import value\u001b[39;00m\n\u001b[1;32m   5251\u001b[0m \u001b[39m# ------------\u001b[39;00m\n\u001b[1;32m   5252\u001b[0m validator \u001b[39m=\u001b[39m \u001b[39mself\u001b[39m\u001b[39m.\u001b[39m_get_validator(prop)\n\u001b[0;32m-> 5253\u001b[0m val \u001b[39m=\u001b[39m validator\u001b[39m.\u001b[39;49mvalidate_coerce(val, skip_invalid\u001b[39m=\u001b[39;49m\u001b[39mself\u001b[39;49m\u001b[39m.\u001b[39;49m_skip_invalid)\n\u001b[1;32m   5255\u001b[0m \u001b[39m# Save deep copies of current and new states\u001b[39;00m\n\u001b[1;32m   5256\u001b[0m \u001b[39m# ------------------------------------------\u001b[39;00m\n\u001b[1;32m   5257\u001b[0m curr_val \u001b[39m=\u001b[39m \u001b[39mself\u001b[39m\u001b[39m.\u001b[39m_compound_props\u001b[39m.\u001b[39mget(prop, \u001b[39mNone\u001b[39;00m)\n",
      "File \u001b[0;32m/opt/mamba/lib/python3.10/site-packages/_plotly_utils/basevalidators.py:2485\u001b[0m, in \u001b[0;36mCompoundValidator.validate_coerce\u001b[0;34m(self, v, skip_invalid, _validate)\u001b[0m\n\u001b[1;32m   2483\u001b[0m         v \u001b[39m=\u001b[39m \u001b[39mself\u001b[39m\u001b[39m.\u001b[39mdata_class()\n\u001b[1;32m   2484\u001b[0m     \u001b[39melse\u001b[39;00m:\n\u001b[0;32m-> 2485\u001b[0m         \u001b[39mself\u001b[39;49m\u001b[39m.\u001b[39;49mraise_invalid_val(v)\n\u001b[1;32m   2487\u001b[0m v\u001b[39m.\u001b[39m_plotly_name \u001b[39m=\u001b[39m \u001b[39mself\u001b[39m\u001b[39m.\u001b[39mplotly_name\n\u001b[1;32m   2488\u001b[0m \u001b[39mreturn\u001b[39;00m v\n",
      "File \u001b[0;32m/opt/mamba/lib/python3.10/site-packages/_plotly_utils/basevalidators.py:288\u001b[0m, in \u001b[0;36mBaseValidator.raise_invalid_val\u001b[0;34m(self, v, inds)\u001b[0m\n\u001b[1;32m    285\u001b[0m             \u001b[39mfor\u001b[39;00m i \u001b[39min\u001b[39;00m inds:\n\u001b[1;32m    286\u001b[0m                 name \u001b[39m+\u001b[39m\u001b[39m=\u001b[39m \u001b[39m\"\u001b[39m\u001b[39m[\u001b[39m\u001b[39m\"\u001b[39m \u001b[39m+\u001b[39m \u001b[39mstr\u001b[39m(i) \u001b[39m+\u001b[39m \u001b[39m\"\u001b[39m\u001b[39m]\u001b[39m\u001b[39m\"\u001b[39m\n\u001b[0;32m--> 288\u001b[0m         \u001b[39mraise\u001b[39;00m \u001b[39mValueError\u001b[39;00m(\n\u001b[1;32m    289\u001b[0m \u001b[39m            \u001b[39m\u001b[39m\"\"\"\u001b[39;00m\n\u001b[1;32m    290\u001b[0m \u001b[39m    Invalid value of type {typ} received for the '{name}' property of {pname}\u001b[39;00m\n\u001b[1;32m    291\u001b[0m \u001b[39m        Received value: {v}\u001b[39;00m\n\u001b[1;32m    292\u001b[0m \n\u001b[1;32m    293\u001b[0m \u001b[39m{valid_clr_desc}\"\"\"\u001b[39;00m\u001b[39m.\u001b[39mformat(\n\u001b[1;32m    294\u001b[0m                 name\u001b[39m=\u001b[39mname,\n\u001b[1;32m    295\u001b[0m                 pname\u001b[39m=\u001b[39m\u001b[39mself\u001b[39m\u001b[39m.\u001b[39mparent_name,\n\u001b[1;32m    296\u001b[0m                 typ\u001b[39m=\u001b[39mtype_str(v),\n\u001b[1;32m    297\u001b[0m                 v\u001b[39m=\u001b[39m\u001b[39mrepr\u001b[39m(v),\n\u001b[1;32m    298\u001b[0m                 valid_clr_desc\u001b[39m=\u001b[39m\u001b[39mself\u001b[39m\u001b[39m.\u001b[39mdescription(),\n\u001b[1;32m    299\u001b[0m             )\n\u001b[1;32m    300\u001b[0m         )\n",
      "\u001b[0;31mValueError\u001b[0m: \n    Invalid value of type 'builtins.bool' received for the 'marker' property of scatter\n        Received value: True\n\n    The 'marker' property is an instance of Marker\n    that may be specified as:\n      - An instance of :class:`plotly.graph_objs.scatter.Marker`\n      - A dict of string/value properties that will be passed\n        to the Marker constructor\n\n        Supported dict properties:\n            \n            angle\n                Sets the marker angle in respect to `angleref`.\n            angleref\n                Sets the reference for marker angle. With\n                \"previous\", angle 0 points along the line from\n                the previous point to this one. With \"up\",\n                angle 0 points toward the top of the screen.\n            anglesrc\n                Sets the source reference on Chart Studio Cloud\n                for `angle`.\n            autocolorscale\n                Determines whether the colorscale is a default\n                palette (`autocolorscale: true`) or the palette\n                determined by `marker.colorscale`. Has an\n                effect only if in `marker.color` is set to a\n                numerical array. In case `colorscale` is\n                unspecified or `autocolorscale` is true, the\n                default palette will be chosen according to\n                whether numbers in the `color` array are all\n                positive, all negative or mixed.\n            cauto\n                Determines whether or not the color domain is\n                computed with respect to the input data (here\n                in `marker.color`) or the bounds set in\n                `marker.cmin` and `marker.cmax` Has an effect\n                only if in `marker.color` is set to a numerical\n                array. Defaults to `false` when `marker.cmin`\n                and `marker.cmax` are set by the user.\n            cmax\n                Sets the upper bound of the color domain. Has\n                an effect only if in `marker.color` is set to a\n                numerical array. Value should have the same\n                units as in `marker.color` and if set,\n                `marker.cmin` must be set as well.\n            cmid\n                Sets the mid-point of the color domain by\n                scaling `marker.cmin` and/or `marker.cmax` to\n                be equidistant to this point. Has an effect\n                only if in `marker.color` is set to a numerical\n                array. Value should have the same units as in\n                `marker.color`. Has no effect when\n                `marker.cauto` is `false`.\n            cmin\n                Sets the lower bound of the color domain. Has\n                an effect only if in `marker.color` is set to a\n                numerical array. Value should have the same\n                units as in `marker.color` and if set,\n                `marker.cmax` must be set as well.\n            color\n                Sets the marker color. It accepts either a\n                specific color or an array of numbers that are\n                mapped to the colorscale relative to the max\n                and min values of the array or relative to\n                `marker.cmin` and `marker.cmax` if set.\n            coloraxis\n                Sets a reference to a shared color axis.\n                References to these shared color axes are\n                \"coloraxis\", \"coloraxis2\", \"coloraxis3\", etc.\n                Settings for these shared color axes are set in\n                the layout, under `layout.coloraxis`,\n                `layout.coloraxis2`, etc. Note that multiple\n                color scales can be linked to the same color\n                axis.\n            colorbar\n                :class:`plotly.graph_objects.scatter.marker.Col\n                orBar` instance or dict with compatible\n                properties\n            colorscale\n                Sets the colorscale. Has an effect only if in\n                `marker.color` is set to a numerical array. The\n                colorscale must be an array containing arrays\n                mapping a normalized value to an rgb, rgba,\n                hex, hsl, hsv, or named color string. At\n                minimum, a mapping for the lowest (0) and\n                highest (1) values are required. For example,\n                `[[0, 'rgb(0,0,255)'], [1, 'rgb(255,0,0)']]`.\n                To control the bounds of the colorscale in\n                color space, use `marker.cmin` and\n                `marker.cmax`. Alternatively, `colorscale` may\n                be a palette name string of the following list:\n                Blackbody,Bluered,Blues,Cividis,Earth,Electric,\n                Greens,Greys,Hot,Jet,Picnic,Portland,Rainbow,Rd\n                Bu,Reds,Viridis,YlGnBu,YlOrRd.\n            colorsrc\n                Sets the source reference on Chart Studio Cloud\n                for `color`.\n            gradient\n                :class:`plotly.graph_objects.scatter.marker.Gra\n                dient` instance or dict with compatible\n                properties\n            line\n                :class:`plotly.graph_objects.scatter.marker.Lin\n                e` instance or dict with compatible properties\n            maxdisplayed\n                Sets a maximum number of points to be drawn on\n                the graph. 0 corresponds to no limit.\n            opacity\n                Sets the marker opacity.\n            opacitysrc\n                Sets the source reference on Chart Studio Cloud\n                for `opacity`.\n            reversescale\n                Reverses the color mapping if true. Has an\n                effect only if in `marker.color` is set to a\n                numerical array. If true, `marker.cmin` will\n                correspond to the last color in the array and\n                `marker.cmax` will correspond to the first\n                color.\n            showscale\n                Determines whether or not a colorbar is\n                displayed for this trace. Has an effect only if\n                in `marker.color` is set to a numerical array.\n            size\n                Sets the marker size (in px).\n            sizemin\n                Has an effect only if `marker.size` is set to a\n                numerical array. Sets the minimum size (in px)\n                of the rendered marker points.\n            sizemode\n                Has an effect only if `marker.size` is set to a\n                numerical array. Sets the rule for which the\n                data in `size` is converted to pixels.\n            sizeref\n                Has an effect only if `marker.size` is set to a\n                numerical array. Sets the scale factor used to\n                determine the rendered size of marker points.\n                Use with `sizemin` and `sizemode`.\n            sizesrc\n                Sets the source reference on Chart Studio Cloud\n                for `size`.\n            standoff\n                Moves the marker away from the data point in\n                the direction of `angle` (in px). This can be\n                useful for example if you have another marker\n                at this location and you want to point an\n                arrowhead marker at it.\n            standoffsrc\n                Sets the source reference on Chart Studio Cloud\n                for `standoff`.\n            symbol\n                Sets the marker symbol type. Adding 100 is\n                equivalent to appending \"-open\" to a symbol\n                name. Adding 200 is equivalent to appending\n                \"-dot\" to a symbol name. Adding 300 is\n                equivalent to appending \"-open-dot\" or \"dot-\n                open\" to a symbol name.\n            symbolsrc\n                Sets the source reference on Chart Studio Cloud\n                for `symbol`.\n"
     ]
    }
   ],
   "source": [
    "bgm.plot_probability_alive(\n",
    "    customer_id,\n",
    "    n_period,\n",
    "    [1500, 700],\n",
    "    T_future_transac\n",
    ")"
   ]
  },
  {
   "cell_type": "code",
   "execution_count": null,
   "metadata": {},
   "outputs": [],
   "source": [
    "(\n",
    "alive_proba_study_time,\n",
    "min_p_alive_,\n",
    "max_p_alive_,\n",
    "p_alive_xarray\n",
    ") = bgm.probability_alive_features(\n",
    "            T_,\n",
    "            customer_history\n",
    "        )\n",
    "min_p_alive_"
   ]
  },
  {
   "cell_type": "code",
   "execution_count": null,
   "metadata": {},
   "outputs": [],
   "source": []
  },
  {
   "attachments": {},
   "cell_type": "markdown",
   "metadata": {},
   "source": [
    "# Frontend Prep\n",
    "\n",
    "```python\n",
    "dt_format_, _dt_format= '%d/%m/%Y %H:%M', '%Y-%m-%d %H:%M'\n",
    "df_transaction = getDataset()\n",
    "df_transaction[RawFeatures.TRANSACTION_DATE] = df_transaction[RawFeatures.TRANSACTION_DATE].apply(\n",
    "                                                    lambda x: dt.datetime.strptime(x, dt_format_).strftime(_dt_format) if x==x else x)\n",
    "\n",
    "data_inst = ProcessData(df_transaction, 'D', '2011-06-30')\n",
    "data_summary = data_inst.model_data()\n",
    "\n",
    "bgm = BetaGeoModel(data_summary)\n",
    "bgm.fit()\n",
    "bgm.fit_summary()\n",
    "\n",
    "customer_id = 14110.0\n",
    "n_period = 14\n",
    "T_future_transac = 7\n",
    "\n",
    "bgm.plot_probability_alive(\n",
    "    customer_id,\n",
    "    n_period,\n",
    "    [1500, 700],\n",
    "    T_future_transac\n",
    ")\n",
    "```"
   ]
  },
  {
   "cell_type": "code",
   "execution_count": null,
   "metadata": {},
   "outputs": [],
   "source": []
  }
 ],
 "metadata": {
  "kernelspec": {
   "display_name": "base",
   "language": "python",
   "name": "python3"
  },
  "language_info": {
   "codemirror_mode": {
    "name": "ipython",
    "version": 3
   },
   "file_extension": ".py",
   "mimetype": "text/x-python",
   "name": "python",
   "nbconvert_exporter": "python",
   "pygments_lexer": "ipython3",
   "version": "3.10.9"
  },
  "orig_nbformat": 4
 },
 "nbformat": 4,
 "nbformat_minor": 2
}
