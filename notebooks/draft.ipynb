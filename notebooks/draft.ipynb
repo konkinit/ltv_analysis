{
 "cells": [
  {
   "cell_type": "code",
   "execution_count": null,
   "metadata": {},
   "outputs": [],
   "source": [
    "import os\n",
    "import numpy as np\n",
    "import datetime as dt\n",
    "import seaborn as sns\n",
    "import matplotlib.pyplot as plt\n",
    "import pandas as pd\n",
    "from pymc_marketing import clv\n",
    "os.chdir(\"../\")\n",
    "from src.data import (\n",
    "    getDataset,\n",
    "    ProcessData,\n",
    "    Statistics,\n",
    ")\n",
    "from src.config import RawFeatures, Metadata_Features, DataProcessingFeatures\n",
    "from src.models import BetaGeoModel\n",
    "from src.utils import (\n",
    "    get_customer_history_data, get_customer_whatif_data\n",
    ")"
   ]
  },
  {
   "attachments": {},
   "cell_type": "markdown",
   "metadata": {},
   "source": [
    "# DataProcessing for RFM"
   ]
  },
  {
   "cell_type": "code",
   "execution_count": null,
   "metadata": {},
   "outputs": [],
   "source": [
    "df_transaction = getDataset()\n",
    "freq = 'D'"
   ]
  },
  {
   "cell_type": "code",
   "execution_count": null,
   "metadata": {},
   "outputs": [],
   "source": [
    "df_transaction.head()"
   ]
  },
  {
   "cell_type": "code",
   "execution_count": null,
   "metadata": {},
   "outputs": [],
   "source": [
    "data_inst = ProcessData(DataProcessingFeatures(df_transaction, freq, '2011-06-30'))\n",
    "data_summary = data_inst.model_data()\n",
    "data_summary.head()"
   ]
  },
  {
   "attachments": {},
   "cell_type": "markdown",
   "metadata": {},
   "source": [
    "# MetaData Statistics"
   ]
  },
  {
   "cell_type": "code",
   "execution_count": null,
   "metadata": {},
   "outputs": [],
   "source": [
    "_stats_data = Statistics(df_transaction).metadata_stats()\n",
    "_stats_data"
   ]
  },
  {
   "cell_type": "code",
   "execution_count": null,
   "metadata": {},
   "outputs": [],
   "source": [
    "Statistics(data_summary).rfm_data_stats()"
   ]
  },
  {
   "attachments": {},
   "cell_type": "markdown",
   "metadata": {},
   "source": [
    "# Modeling\n"
   ]
  },
  {
   "cell_type": "code",
   "execution_count": null,
   "metadata": {},
   "outputs": [],
   "source": [
    "bgm = BetaGeoModel(data_summary, freq, _stats_data)\n",
    "bgm.fit()"
   ]
  },
  {
   "cell_type": "code",
   "execution_count": null,
   "metadata": {},
   "outputs": [],
   "source": [
    "bgm.fit_summary().reset_index(drop=False).rename(columns={\"index\": \"parameter\"})"
   ]
  },
  {
   "attachments": {},
   "cell_type": "markdown",
   "metadata": {},
   "source": [
    "# Plots"
   ]
  },
  {
   "cell_type": "code",
   "execution_count": null,
   "metadata": {},
   "outputs": [],
   "source": [
    "fig = bgm._global_plots()\n",
    "fig.show()"
   ]
  },
  {
   "cell_type": "code",
   "execution_count": null,
   "metadata": {},
   "outputs": [],
   "source": [
    "customer_id = 14114.0\n",
    "customer_id_ = 12747.0\n",
    "customer_id__ = 12745.0\n",
    "n_period = 30\n",
    "T_future_transac = 4"
   ]
  },
  {
   "cell_type": "code",
   "execution_count": null,
   "metadata": {},
   "outputs": [],
   "source": [
    "bgm.plot_probability_alive(\n",
    "    customer_id__,\n",
    "    n_period,\n",
    "    [1500, 700]\n",
    ")"
   ]
  },
  {
   "cell_type": "code",
   "execution_count": null,
   "metadata": {},
   "outputs": [],
   "source": [
    "bgm.plot_probability_alive(\n",
    "    customer_id_,\n",
    "    n_period,\n",
    "    [1500, 700]\n",
    ")"
   ]
  },
  {
   "cell_type": "code",
   "execution_count": null,
   "metadata": {},
   "outputs": [],
   "source": [
    "bgm.plot_probability_alive(\n",
    "    customer_id,\n",
    "    n_period,\n",
    "    [1500, 700],\n",
    "    # T_future_transac\n",
    ")"
   ]
  },
  {
   "attachments": {},
   "cell_type": "markdown",
   "metadata": {},
   "source": [
    "# Frontend Prep\n",
    "\n",
    "```python\n",
    "dt_format_, _dt_format= '%d/%m/%Y %H:%M', '%Y-%m-%d %H:%M'\n",
    "df_transaction = getDataset()\n",
    "df_transaction[RawFeatures.TRANSACTION_DATE] = df_transaction[RawFeatures.TRANSACTION_DATE].apply(\n",
    "                                                    lambda x: dt.datetime.strptime(x, dt_format_).strftime(_dt_format) if x==x else x)\n",
    "\n",
    "data_inst = ProcessData(df_transaction, 'D', '2011-06-30')\n",
    "data_summary = data_inst.model_data()\n",
    "\n",
    "bgm = BetaGeoModel(data_summary)\n",
    "bgm.fit()\n",
    "bgm.fit_summary()\n",
    "\n",
    "customer_id = 14110.0\n",
    "n_period = 14\n",
    "T_future_transac = 7\n",
    "\n",
    "bgm.plot_probability_alive(\n",
    "    customer_id,\n",
    "    n_period,\n",
    "    [1500, 700],\n",
    "    T_future_transac\n",
    ")\n",
    "```"
   ]
  },
  {
   "cell_type": "code",
   "execution_count": null,
   "metadata": {},
   "outputs": [],
   "source": []
  }
 ],
 "metadata": {
  "kernelspec": {
   "display_name": "base",
   "language": "python",
   "name": "python3"
  },
  "language_info": {
   "codemirror_mode": {
    "name": "ipython",
    "version": 3
   },
   "file_extension": ".py",
   "mimetype": "text/x-python",
   "name": "python",
   "nbconvert_exporter": "python",
   "pygments_lexer": "ipython3",
   "version": "3.10.9"
  },
  "orig_nbformat": 4
 },
 "nbformat": 4,
 "nbformat_minor": 2
}
