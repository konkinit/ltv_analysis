{
 "cells": [
  {
   "cell_type": "code",
   "execution_count": null,
   "metadata": {},
   "outputs": [],
   "source": [
    "import os\n",
    "import numpy as np\n",
    "import datetime as dt\n",
    "import seaborn as sns\n",
    "import matplotlib.pyplot as plt\n",
    "import pandas as pd\n",
    "from lifetimes.plotting import *\n",
    "from lifetimes.utils import *\n",
    "os.chdir(\"../\")\n",
    "from src.models import BetaGeoModel\n",
    "from src.data import (\n",
    "    getDataset,\n",
    "    ProcessData,\n",
    "    RawFeatures\n",
    ")"
   ]
  },
  {
   "cell_type": "code",
   "execution_count": null,
   "metadata": {},
   "outputs": [],
   "source": [
    "dt_format_ = '%d/%m/%Y %H:%M'\n",
    "_dt_format = '%Y-%m-%d %H:%M'\n",
    "df_transaction = getDataset()\n",
    "df_transaction[RawFeatures.TRANSACTION_DATE] = df_transaction[RawFeatures.TRANSACTION_DATE].apply(\n",
    "                                                    lambda x: dt.datetime.strptime(x, dt_format_).strftime(_dt_format) if x==x else x)"
   ]
  },
  {
   "cell_type": "code",
   "execution_count": null,
   "metadata": {},
   "outputs": [],
   "source": [
    "df_transaction.head()\n"
   ]
  },
  {
   "cell_type": "code",
   "execution_count": null,
   "metadata": {},
   "outputs": [],
   "source": [
    "df_transaction[RawFeatures.TRANSACTION_DATE].sort_values()"
   ]
  },
  {
   "cell_type": "code",
   "execution_count": null,
   "metadata": {},
   "outputs": [],
   "source": [
    "# pd.to_datetime(\n",
    "#    df_transaction[RawFeatures.TRANSACTION_DATE].dropna().apply(lambda x: dt.datetime.strptime(x, '%d/%m/%Y %H:%M')),\n",
    "# ).dt.date"
   ]
  },
  {
   "cell_type": "code",
   "execution_count": null,
   "metadata": {},
   "outputs": [],
   "source": [
    "data_inst = ProcessData(df_transaction, 'D', '2011-06-30')\n",
    "data_summary = data_inst.model_data()\n",
    "data_summary.head()"
   ]
  },
  {
   "cell_type": "code",
   "execution_count": null,
   "metadata": {},
   "outputs": [],
   "source": [
    "data_summary.describe().iloc[1:, :]"
   ]
  },
  {
   "cell_type": "code",
   "execution_count": null,
   "metadata": {},
   "outputs": [],
   "source": [
    "bgf = BetaGeoModel(data_summary, 7)\n",
    "bgf.fit_()"
   ]
  },
  {
   "cell_type": "code",
   "execution_count": null,
   "metadata": {},
   "outputs": [],
   "source": [
    "# Compute the probability that a customer with history (frequency, recency, T) is currently alive.\n",
    "bgf.conditional_probability_alive(\n",
    "    frequency=25.0,\n",
    "    recency=858.0,\n",
    "    T=1062\n",
    ")"
   ]
  },
  {
   "cell_type": "code",
   "execution_count": null,
   "metadata": {},
   "outputs": [],
   "source": [
    "data_summary.apply(\n",
    "    lambda x: bgf.conditional_probability_alive(\n",
    "            frequency=x.frequency,\n",
    "            recency=x.recency,\n",
    "            T=data_summary[\"T\"].max()\n",
    "    )[0],\n",
    "    axis=1\n",
    ").sort_values().to_frame().reset_index().tail(2000)"
   ]
  },
  {
   "cell_type": "code",
   "execution_count": null,
   "metadata": {},
   "outputs": [],
   "source": [
    "data_summary[data_summary.index==16422.0]"
   ]
  },
  {
   "cell_type": "code",
   "execution_count": null,
   "metadata": {},
   "outputs": [],
   "source": []
  },
  {
   "attachments": {},
   "cell_type": "markdown",
   "metadata": {},
   "source": [
    "# Model validation"
   ]
  },
  {
   "cell_type": "code",
   "execution_count": null,
   "metadata": {},
   "outputs": [],
   "source": [
    "# partition the dataset into a calibration and a holdout dataset\n",
    "summary_cal_holdout = data_inst.model_cal_holdout_data()\n"
   ]
  },
  {
   "cell_type": "code",
   "execution_count": null,
   "metadata": {},
   "outputs": [],
   "source": [
    "# train BG/NBD model on the calibration data\n",
    "bgf_cal = BetaGeoModel(\n",
    "            data=summary_cal_holdout,\n",
    "            T_prediction=7,\n",
    "            penalizer_coef_=0.6\n",
    "        )\n",
    "bgf_cal.fit_validation()\n"
   ]
  },
  {
   "cell_type": "code",
   "execution_count": null,
   "metadata": {},
   "outputs": [],
   "source": []
  },
  {
   "attachments": {},
   "cell_type": "markdown",
   "metadata": {},
   "source": [
    "# Plots"
   ]
  },
  {
   "cell_type": "code",
   "execution_count": null,
   "metadata": {},
   "outputs": [],
   "source": [
    "customer_id = 13140.0\n",
    "days_since_birth = 365\n",
    "sp_trans = df_transaction.loc[df_transaction[RawFeatures.CUSTOMER_ID] == customer_id]\n",
    "plot_history_alive(\n",
    "    bgf,\n",
    "    days_since_birth,\n",
    "    sp_trans,\n",
    "    RawFeatures.TRANSACTION_DATE\n",
    ")\n"
   ]
  },
  {
   "cell_type": "code",
   "execution_count": null,
   "metadata": {},
   "outputs": [],
   "source": [
    "help(plot_history_alive)"
   ]
  },
  {
   "cell_type": "code",
   "execution_count": null,
   "metadata": {},
   "outputs": [],
   "source": [
    "# plot_transaction_rate_heterogeneity(bgf);\n",
    "\n",
    "# plot_dropout_rate_heterogeneity(bgf);"
   ]
  },
  {
   "cell_type": "code",
   "execution_count": null,
   "metadata": {},
   "outputs": [],
   "source": [
    "# fig = plt.figure(figsize=(12, 6))\n",
    "# plot_frequency_recency_matrix(bgf, T = 7)\n",
    "\n",
    "# fig = plt.figure(figsize=(12, 6))\n",
    "# plot_probability_alive_matrix(bgf)\n",
    "\n",
    "# plt.show()"
   ]
  },
  {
   "cell_type": "code",
   "execution_count": null,
   "metadata": {},
   "outputs": [],
   "source": [
    "# plot actual vs predicted frequency during the holdout period\n",
    "# n represents the max frequency values to be plotted on the x-axis\n",
    "\n",
    "plot_calibration_purchases_vs_holdout_purchases(\n",
    "\tbgf_cal,\n",
    "\tsummary_cal_holdout,\n",
    "\tn=int(summary_cal_holdout['frequency_holdout'].max()),\n",
    "\tfigsize = (8, 5)\n",
    ")\n",
    "plt.show();"
   ]
  },
  {
   "cell_type": "code",
   "execution_count": null,
   "metadata": {},
   "outputs": [],
   "source": []
  }
 ],
 "metadata": {
  "kernelspec": {
   "display_name": "base",
   "language": "python",
   "name": "python3"
  },
  "language_info": {
   "codemirror_mode": {
    "name": "ipython",
    "version": 3
   },
   "file_extension": ".py",
   "mimetype": "text/x-python",
   "name": "python",
   "nbconvert_exporter": "python",
   "pygments_lexer": "ipython3",
   "version": "3.10.9"
  },
  "orig_nbformat": 4
 },
 "nbformat": 4,
 "nbformat_minor": 2
}
