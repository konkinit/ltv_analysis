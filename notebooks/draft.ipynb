{
 "cells": [
  {
   "cell_type": "code",
   "execution_count": 1,
   "metadata": {},
   "outputs": [],
   "source": [
    "import os\n",
    "import numpy as np\n",
    "import datetime as dt\n",
    "import seaborn as sns\n",
    "import matplotlib.pyplot as plt\n",
    "import pandas as pd\n",
    "from lifetimes.plotting import *\n",
    "from lifetimes.utils import *\n",
    "os.chdir(\"../\")\n",
    "from src.models import BetaGeoModel\n",
    "from src.data import (\n",
    "    getDataset,\n",
    "    ProcessData,\n",
    "    RawFeatures\n",
    ")"
   ]
  },
  {
   "cell_type": "code",
   "execution_count": 2,
   "metadata": {},
   "outputs": [],
   "source": [
    "dt_format_ = '%d/%m/%Y %H:%M'\n",
    "_dt_format = '%Y-%m-%d %H:%M'\n",
    "df_transaction = getDataset()\n",
    "df_transaction[RawFeatures.TRANSACTION_DATE] = df_transaction[RawFeatures.TRANSACTION_DATE].apply(\n",
    "                                                    lambda x: dt.datetime.strptime(x, dt_format_).strftime(_dt_format) if x==x else x)"
   ]
  },
  {
   "cell_type": "code",
   "execution_count": 3,
   "metadata": {},
   "outputs": [
    {
     "data": {
      "text/html": [
       "<div>\n",
       "<style scoped>\n",
       "    .dataframe tbody tr th:only-of-type {\n",
       "        vertical-align: middle;\n",
       "    }\n",
       "\n",
       "    .dataframe tbody tr th {\n",
       "        vertical-align: top;\n",
       "    }\n",
       "\n",
       "    .dataframe thead th {\n",
       "        text-align: right;\n",
       "    }\n",
       "</style>\n",
       "<table border=\"1\" class=\"dataframe\">\n",
       "  <thead>\n",
       "    <tr style=\"text-align: right;\">\n",
       "      <th></th>\n",
       "      <th>Customer ID</th>\n",
       "      <th>InvoiceDate</th>\n",
       "      <th>Price</th>\n",
       "      <th>Quantity</th>\n",
       "    </tr>\n",
       "  </thead>\n",
       "  <tbody>\n",
       "    <tr>\n",
       "      <th>0</th>\n",
       "      <td>13085.0</td>\n",
       "      <td>2009-12-01 07:45</td>\n",
       "      <td>6.95</td>\n",
       "      <td>12.0</td>\n",
       "    </tr>\n",
       "    <tr>\n",
       "      <th>1</th>\n",
       "      <td>13085.0</td>\n",
       "      <td>2009-12-01 07:45</td>\n",
       "      <td>6.75</td>\n",
       "      <td>12.0</td>\n",
       "    </tr>\n",
       "    <tr>\n",
       "      <th>2</th>\n",
       "      <td>13085.0</td>\n",
       "      <td>2009-12-01 07:45</td>\n",
       "      <td>6.75</td>\n",
       "      <td>12.0</td>\n",
       "    </tr>\n",
       "    <tr>\n",
       "      <th>3</th>\n",
       "      <td>13085.0</td>\n",
       "      <td>2009-12-01 07:45</td>\n",
       "      <td>2.10</td>\n",
       "      <td>48.0</td>\n",
       "    </tr>\n",
       "    <tr>\n",
       "      <th>4</th>\n",
       "      <td>13085.0</td>\n",
       "      <td>2009-12-01 07:45</td>\n",
       "      <td>1.25</td>\n",
       "      <td>24.0</td>\n",
       "    </tr>\n",
       "  </tbody>\n",
       "</table>\n",
       "</div>"
      ],
      "text/plain": [
       "   Customer ID       InvoiceDate  Price  Quantity\n",
       "0      13085.0  2009-12-01 07:45   6.95      12.0\n",
       "1      13085.0  2009-12-01 07:45   6.75      12.0\n",
       "2      13085.0  2009-12-01 07:45   6.75      12.0\n",
       "3      13085.0  2009-12-01 07:45   2.10      48.0\n",
       "4      13085.0  2009-12-01 07:45   1.25      24.0"
      ]
     },
     "execution_count": 3,
     "metadata": {},
     "output_type": "execute_result"
    }
   ],
   "source": [
    "df_transaction.head()\n"
   ]
  },
  {
   "cell_type": "code",
   "execution_count": 4,
   "metadata": {},
   "outputs": [
    {
     "data": {
      "text/plain": [
       "0         2009-12-01 07:45\n",
       "1         2009-12-01 07:45\n",
       "2         2009-12-01 07:45\n",
       "3         2009-12-01 07:45\n",
       "4         2009-12-01 07:45\n",
       "                ...       \n",
       "981329    2011-12-09 12:49\n",
       "981327    2011-12-09 12:49\n",
       "981328    2011-12-09 12:49\n",
       "981330    2011-12-09 12:49\n",
       "633055                 NaN\n",
       "Name: InvoiceDate, Length: 981331, dtype: object"
      ]
     },
     "execution_count": 4,
     "metadata": {},
     "output_type": "execute_result"
    }
   ],
   "source": [
    "df_transaction[RawFeatures.TRANSACTION_DATE].sort_values()"
   ]
  },
  {
   "cell_type": "code",
   "execution_count": 5,
   "metadata": {},
   "outputs": [],
   "source": [
    "# pd.to_datetime(\n",
    "#    df_transaction[RawFeatures.TRANSACTION_DATE].dropna().apply(lambda x: dt.datetime.strptime(x, '%d/%m/%Y %H:%M')),\n",
    "# ).dt.date"
   ]
  },
  {
   "cell_type": "code",
   "execution_count": 6,
   "metadata": {},
   "outputs": [
    {
     "data": {
      "text/html": [
       "<div>\n",
       "<style scoped>\n",
       "    .dataframe tbody tr th:only-of-type {\n",
       "        vertical-align: middle;\n",
       "    }\n",
       "\n",
       "    .dataframe tbody tr th {\n",
       "        vertical-align: top;\n",
       "    }\n",
       "\n",
       "    .dataframe thead th {\n",
       "        text-align: right;\n",
       "    }\n",
       "</style>\n",
       "<table border=\"1\" class=\"dataframe\">\n",
       "  <thead>\n",
       "    <tr style=\"text-align: right;\">\n",
       "      <th></th>\n",
       "      <th>frequency</th>\n",
       "      <th>recency</th>\n",
       "      <th>T</th>\n",
       "      <th>monetary_value</th>\n",
       "    </tr>\n",
       "    <tr>\n",
       "      <th>Customer ID</th>\n",
       "      <th></th>\n",
       "      <th></th>\n",
       "      <th></th>\n",
       "      <th></th>\n",
       "    </tr>\n",
       "  </thead>\n",
       "  <tbody>\n",
       "    <tr>\n",
       "      <th>12346.0</th>\n",
       "      <td>7.0</td>\n",
       "      <td>400.0</td>\n",
       "      <td>725.0</td>\n",
       "      <td>11066.637143</td>\n",
       "    </tr>\n",
       "    <tr>\n",
       "      <th>12745.0</th>\n",
       "      <td>1.0</td>\n",
       "      <td>88.0</td>\n",
       "      <td>574.0</td>\n",
       "      <td>266.930000</td>\n",
       "    </tr>\n",
       "    <tr>\n",
       "      <th>12747.0</th>\n",
       "      <td>25.0</td>\n",
       "      <td>730.0</td>\n",
       "      <td>732.0</td>\n",
       "      <td>355.835600</td>\n",
       "    </tr>\n",
       "    <tr>\n",
       "      <th>12748.0</th>\n",
       "      <td>202.0</td>\n",
       "      <td>735.0</td>\n",
       "      <td>735.0</td>\n",
       "      <td>279.101436</td>\n",
       "    </tr>\n",
       "    <tr>\n",
       "      <th>12749.0</th>\n",
       "      <td>6.0</td>\n",
       "      <td>518.0</td>\n",
       "      <td>521.0</td>\n",
       "      <td>1010.743333</td>\n",
       "    </tr>\n",
       "  </tbody>\n",
       "</table>\n",
       "</div>"
      ],
      "text/plain": [
       "             frequency  recency      T  monetary_value\n",
       "Customer ID                                           \n",
       "12346.0            7.0    400.0  725.0    11066.637143\n",
       "12745.0            1.0     88.0  574.0      266.930000\n",
       "12747.0           25.0    730.0  732.0      355.835600\n",
       "12748.0          202.0    735.0  735.0      279.101436\n",
       "12749.0            6.0    518.0  521.0     1010.743333"
      ]
     },
     "execution_count": 6,
     "metadata": {},
     "output_type": "execute_result"
    }
   ],
   "source": [
    "data_inst = ProcessData(df_transaction, 'D', '2011-06-30')\n",
    "data_summary = data_inst.model_data()\n",
    "data_summary.head()"
   ]
  },
  {
   "cell_type": "code",
   "execution_count": 7,
   "metadata": {},
   "outputs": [
    {
     "data": {
      "text/html": [
       "<div>\n",
       "<style scoped>\n",
       "    .dataframe tbody tr th:only-of-type {\n",
       "        vertical-align: middle;\n",
       "    }\n",
       "\n",
       "    .dataframe tbody tr th {\n",
       "        vertical-align: top;\n",
       "    }\n",
       "\n",
       "    .dataframe thead th {\n",
       "        text-align: right;\n",
       "    }\n",
       "</style>\n",
       "<table border=\"1\" class=\"dataframe\">\n",
       "  <thead>\n",
       "    <tr style=\"text-align: right;\">\n",
       "      <th></th>\n",
       "      <th>frequency</th>\n",
       "      <th>recency</th>\n",
       "      <th>T</th>\n",
       "      <th>monetary_value</th>\n",
       "    </tr>\n",
       "  </thead>\n",
       "  <tbody>\n",
       "    <tr>\n",
       "      <th>mean</th>\n",
       "      <td>6.490052</td>\n",
       "      <td>386.782461</td>\n",
       "      <td>526.574346</td>\n",
       "      <td>422.646958</td>\n",
       "    </tr>\n",
       "    <tr>\n",
       "      <th>std</th>\n",
       "      <td>10.721823</td>\n",
       "      <td>227.335755</td>\n",
       "      <td>201.691737</td>\n",
       "      <td>2771.151697</td>\n",
       "    </tr>\n",
       "    <tr>\n",
       "      <th>min</th>\n",
       "      <td>1.000000</td>\n",
       "      <td>1.000000</td>\n",
       "      <td>9.000000</td>\n",
       "      <td>3.900000</td>\n",
       "    </tr>\n",
       "    <tr>\n",
       "      <th>25%</th>\n",
       "      <td>2.000000</td>\n",
       "      <td>184.000000</td>\n",
       "      <td>412.500000</td>\n",
       "      <td>187.190000</td>\n",
       "    </tr>\n",
       "    <tr>\n",
       "      <th>50%</th>\n",
       "      <td>3.000000</td>\n",
       "      <td>389.000000</td>\n",
       "      <td>592.000000</td>\n",
       "      <td>300.305000</td>\n",
       "    </tr>\n",
       "    <tr>\n",
       "      <th>75%</th>\n",
       "      <td>7.000000</td>\n",
       "      <td>593.000000</td>\n",
       "      <td>690.000000</td>\n",
       "      <td>434.791667</td>\n",
       "    </tr>\n",
       "    <tr>\n",
       "      <th>max</th>\n",
       "      <td>202.000000</td>\n",
       "      <td>738.000000</td>\n",
       "      <td>738.000000</td>\n",
       "      <td>168469.600000</td>\n",
       "    </tr>\n",
       "  </tbody>\n",
       "</table>\n",
       "</div>"
      ],
      "text/plain": [
       "       frequency     recency           T  monetary_value\n",
       "mean    6.490052  386.782461  526.574346      422.646958\n",
       "std    10.721823  227.335755  201.691737     2771.151697\n",
       "min     1.000000    1.000000    9.000000        3.900000\n",
       "25%     2.000000  184.000000  412.500000      187.190000\n",
       "50%     3.000000  389.000000  592.000000      300.305000\n",
       "75%     7.000000  593.000000  690.000000      434.791667\n",
       "max   202.000000  738.000000  738.000000   168469.600000"
      ]
     },
     "execution_count": 7,
     "metadata": {},
     "output_type": "execute_result"
    }
   ],
   "source": [
    "data_summary.describe().iloc[1:, :]"
   ]
  },
  {
   "cell_type": "code",
   "execution_count": 8,
   "metadata": {},
   "outputs": [],
   "source": [
    "bgf = BetaGeoModel(data_summary, 7)\n",
    "bgf.fit_()"
   ]
  },
  {
   "cell_type": "code",
   "execution_count": 9,
   "metadata": {},
   "outputs": [
    {
     "data": {
      "text/plain": [
       "array([0.58668023])"
      ]
     },
     "execution_count": 9,
     "metadata": {},
     "output_type": "execute_result"
    }
   ],
   "source": [
    "# Compute the probability that a customer with history (frequency, recency, T) is currently alive.\n",
    "bgf.conditional_probability_alive(\n",
    "    frequency=25.0,\n",
    "    recency=858.0,\n",
    "    T=1062\n",
    ")"
   ]
  },
  {
   "cell_type": "code",
   "execution_count": 10,
   "metadata": {},
   "outputs": [
    {
     "data": {
      "text/html": [
       "<div>\n",
       "<style scoped>\n",
       "    .dataframe tbody tr th:only-of-type {\n",
       "        vertical-align: middle;\n",
       "    }\n",
       "\n",
       "    .dataframe tbody tr th {\n",
       "        vertical-align: top;\n",
       "    }\n",
       "\n",
       "    .dataframe thead th {\n",
       "        text-align: right;\n",
       "    }\n",
       "</style>\n",
       "<table border=\"1\" class=\"dataframe\">\n",
       "  <thead>\n",
       "    <tr style=\"text-align: right;\">\n",
       "      <th></th>\n",
       "      <th>Customer ID</th>\n",
       "      <th>0</th>\n",
       "    </tr>\n",
       "  </thead>\n",
       "  <tbody>\n",
       "    <tr>\n",
       "      <th>2320</th>\n",
       "      <td>14256.0</td>\n",
       "      <td>0.793250</td>\n",
       "    </tr>\n",
       "    <tr>\n",
       "      <th>2321</th>\n",
       "      <td>13509.0</td>\n",
       "      <td>0.793369</td>\n",
       "    </tr>\n",
       "    <tr>\n",
       "      <th>2322</th>\n",
       "      <td>14208.0</td>\n",
       "      <td>0.793847</td>\n",
       "    </tr>\n",
       "    <tr>\n",
       "      <th>2323</th>\n",
       "      <td>15532.0</td>\n",
       "      <td>0.794532</td>\n",
       "    </tr>\n",
       "    <tr>\n",
       "      <th>2324</th>\n",
       "      <td>16149.0</td>\n",
       "      <td>0.794606</td>\n",
       "    </tr>\n",
       "    <tr>\n",
       "      <th>...</th>\n",
       "      <td>...</td>\n",
       "      <td>...</td>\n",
       "    </tr>\n",
       "    <tr>\n",
       "      <th>3815</th>\n",
       "      <td>13089.0</td>\n",
       "      <td>0.998675</td>\n",
       "    </tr>\n",
       "    <tr>\n",
       "      <th>3816</th>\n",
       "      <td>14606.0</td>\n",
       "      <td>0.998851</td>\n",
       "    </tr>\n",
       "    <tr>\n",
       "      <th>3817</th>\n",
       "      <td>12748.0</td>\n",
       "      <td>0.998893</td>\n",
       "    </tr>\n",
       "    <tr>\n",
       "      <th>3818</th>\n",
       "      <td>17841.0</td>\n",
       "      <td>0.999107</td>\n",
       "    </tr>\n",
       "    <tr>\n",
       "      <th>3819</th>\n",
       "      <td>15311.0</td>\n",
       "      <td>0.999444</td>\n",
       "    </tr>\n",
       "  </tbody>\n",
       "</table>\n",
       "<p>1500 rows × 2 columns</p>\n",
       "</div>"
      ],
      "text/plain": [
       "      Customer ID         0\n",
       "2320      14256.0  0.793250\n",
       "2321      13509.0  0.793369\n",
       "2322      14208.0  0.793847\n",
       "2323      15532.0  0.794532\n",
       "2324      16149.0  0.794606\n",
       "...           ...       ...\n",
       "3815      13089.0  0.998675\n",
       "3816      14606.0  0.998851\n",
       "3817      12748.0  0.998893\n",
       "3818      17841.0  0.999107\n",
       "3819      15311.0  0.999444\n",
       "\n",
       "[1500 rows x 2 columns]"
      ]
     },
     "execution_count": 10,
     "metadata": {},
     "output_type": "execute_result"
    }
   ],
   "source": [
    "data_summary.apply(\n",
    "    lambda x: bgf.conditional_probability_alive(\n",
    "            frequency=x.frequency,\n",
    "            recency=x.recency,\n",
    "            T=data_summary[\"T\"].max()\n",
    "    )[0],\n",
    "    axis=1\n",
    ").sort_values().to_frame().reset_index().tail(1500)"
   ]
  },
  {
   "cell_type": "code",
   "execution_count": 11,
   "metadata": {},
   "outputs": [
    {
     "data": {
      "text/html": [
       "<div>\n",
       "<style scoped>\n",
       "    .dataframe tbody tr th:only-of-type {\n",
       "        vertical-align: middle;\n",
       "    }\n",
       "\n",
       "    .dataframe tbody tr th {\n",
       "        vertical-align: top;\n",
       "    }\n",
       "\n",
       "    .dataframe thead th {\n",
       "        text-align: right;\n",
       "    }\n",
       "</style>\n",
       "<table border=\"1\" class=\"dataframe\">\n",
       "  <thead>\n",
       "    <tr style=\"text-align: right;\">\n",
       "      <th></th>\n",
       "      <th>frequency</th>\n",
       "      <th>recency</th>\n",
       "      <th>T</th>\n",
       "      <th>monetary_value</th>\n",
       "    </tr>\n",
       "    <tr>\n",
       "      <th>Customer ID</th>\n",
       "      <th></th>\n",
       "      <th></th>\n",
       "      <th></th>\n",
       "      <th></th>\n",
       "    </tr>\n",
       "  </thead>\n",
       "  <tbody>\n",
       "    <tr>\n",
       "      <th>16422.0</th>\n",
       "      <td>91.0</td>\n",
       "      <td>679.0</td>\n",
       "      <td>696.0</td>\n",
       "      <td>694.564505</td>\n",
       "    </tr>\n",
       "  </tbody>\n",
       "</table>\n",
       "</div>"
      ],
      "text/plain": [
       "             frequency  recency      T  monetary_value\n",
       "Customer ID                                           \n",
       "16422.0           91.0    679.0  696.0      694.564505"
      ]
     },
     "execution_count": 11,
     "metadata": {},
     "output_type": "execute_result"
    }
   ],
   "source": [
    "data_summary[data_summary.index==16422.0]"
   ]
  },
  {
   "cell_type": "code",
   "execution_count": null,
   "metadata": {},
   "outputs": [],
   "source": []
  },
  {
   "attachments": {},
   "cell_type": "markdown",
   "metadata": {},
   "source": [
    "# Model validation"
   ]
  },
  {
   "cell_type": "code",
   "execution_count": 12,
   "metadata": {},
   "outputs": [],
   "source": [
    "# partition the dataset into a calibration and a holdout dataset\n",
    "summary_cal_holdout = data_inst.model_cal_holdout_data()\n"
   ]
  },
  {
   "cell_type": "code",
   "execution_count": 13,
   "metadata": {},
   "outputs": [],
   "source": [
    "# train BG/NBD model on the calibration data\n",
    "bgf_cal = BetaGeoModel(\n",
    "            data=summary_cal_holdout,\n",
    "            T_prediction=7,\n",
    "            penalizer_coef_=0.6\n",
    "        )\n",
    "bgf_cal.fit_validation()\n"
   ]
  },
  {
   "cell_type": "code",
   "execution_count": null,
   "metadata": {},
   "outputs": [],
   "source": []
  },
  {
   "attachments": {},
   "cell_type": "markdown",
   "metadata": {},
   "source": [
    "# Plots"
   ]
  },
  {
   "cell_type": "code",
   "execution_count": 14,
   "metadata": {},
   "outputs": [
    {
     "ename": "ConversionError",
     "evalue": "Failed to convert value(s) to axis units: '2010-01-14 10:35'",
     "output_type": "error",
     "traceback": [
      "\u001b[0;31m---------------------------------------------------------------------------\u001b[0m",
      "\u001b[0;31mIndexError\u001b[0m                                Traceback (most recent call last)",
      "File \u001b[0;32m/opt/mamba/lib/python3.10/site-packages/matplotlib/axis.py:1732\u001b[0m, in \u001b[0;36mAxis.convert_units\u001b[0;34m(self, x)\u001b[0m\n\u001b[1;32m   1731\u001b[0m \u001b[39mtry\u001b[39;00m:\n\u001b[0;32m-> 1732\u001b[0m     ret \u001b[39m=\u001b[39m \u001b[39mself\u001b[39;49m\u001b[39m.\u001b[39;49mconverter\u001b[39m.\u001b[39;49mconvert(x, \u001b[39mself\u001b[39;49m\u001b[39m.\u001b[39;49munits, \u001b[39mself\u001b[39;49m)\n\u001b[1;32m   1733\u001b[0m \u001b[39mexcept\u001b[39;00m \u001b[39mException\u001b[39;00m \u001b[39mas\u001b[39;00m e:\n",
      "File \u001b[0;32m/opt/mamba/lib/python3.10/site-packages/matplotlib/dates.py:1936\u001b[0m, in \u001b[0;36m_SwitchableDateConverter.convert\u001b[0;34m(self, *args, **kwargs)\u001b[0m\n\u001b[1;32m   1935\u001b[0m \u001b[39mdef\u001b[39;00m \u001b[39mconvert\u001b[39m(\u001b[39mself\u001b[39m, \u001b[39m*\u001b[39margs, \u001b[39m*\u001b[39m\u001b[39m*\u001b[39mkwargs):\n\u001b[0;32m-> 1936\u001b[0m     \u001b[39mreturn\u001b[39;00m \u001b[39mself\u001b[39;49m\u001b[39m.\u001b[39;49m_get_converter()\u001b[39m.\u001b[39;49mconvert(\u001b[39m*\u001b[39;49margs, \u001b[39m*\u001b[39;49m\u001b[39m*\u001b[39;49mkwargs)\n",
      "File \u001b[0;32m/opt/mamba/lib/python3.10/site-packages/matplotlib/dates.py:1864\u001b[0m, in \u001b[0;36mDateConverter.convert\u001b[0;34m(value, unit, axis)\u001b[0m\n\u001b[1;32m   1858\u001b[0m \u001b[39m\u001b[39m\u001b[39m\"\"\"\u001b[39;00m\n\u001b[1;32m   1859\u001b[0m \u001b[39mIf *value* is not already a number or sequence of numbers, convert it\u001b[39;00m\n\u001b[1;32m   1860\u001b[0m \u001b[39mwith `date2num`.\u001b[39;00m\n\u001b[1;32m   1861\u001b[0m \n\u001b[1;32m   1862\u001b[0m \u001b[39mThe *unit* and *axis* arguments are not used.\u001b[39;00m\n\u001b[1;32m   1863\u001b[0m \u001b[39m\"\"\"\u001b[39;00m\n\u001b[0;32m-> 1864\u001b[0m \u001b[39mreturn\u001b[39;00m date2num(value)\n",
      "File \u001b[0;32m/opt/mamba/lib/python3.10/site-packages/matplotlib/dates.py:457\u001b[0m, in \u001b[0;36mdate2num\u001b[0;34m(d)\u001b[0m\n\u001b[1;32m    456\u001b[0m     \u001b[39mreturn\u001b[39;00m d\n\u001b[0;32m--> 457\u001b[0m tzi \u001b[39m=\u001b[39m \u001b[39mgetattr\u001b[39m(d[\u001b[39m0\u001b[39;49m], \u001b[39m'\u001b[39m\u001b[39mtzinfo\u001b[39m\u001b[39m'\u001b[39m, \u001b[39mNone\u001b[39;00m)\n\u001b[1;32m    458\u001b[0m \u001b[39mif\u001b[39;00m tzi \u001b[39mis\u001b[39;00m \u001b[39mnot\u001b[39;00m \u001b[39mNone\u001b[39;00m:\n\u001b[1;32m    459\u001b[0m     \u001b[39m# make datetime naive:\u001b[39;00m\n",
      "\u001b[0;31mIndexError\u001b[0m: too many indices for array: array is 0-dimensional, but 1 were indexed",
      "\nThe above exception was the direct cause of the following exception:\n",
      "\u001b[0;31mConversionError\u001b[0m                           Traceback (most recent call last)",
      "Cell \u001b[0;32mIn[14], line 4\u001b[0m\n\u001b[1;32m      2\u001b[0m days_since_birth \u001b[39m=\u001b[39m \u001b[39m1100\u001b[39m\n\u001b[1;32m      3\u001b[0m sp_trans \u001b[39m=\u001b[39m df_transaction\u001b[39m.\u001b[39mloc[df_transaction[RawFeatures\u001b[39m.\u001b[39mCUSTOMER_ID] \u001b[39m==\u001b[39m customer_id]\n\u001b[0;32m----> 4\u001b[0m plot_history_alive(\n\u001b[1;32m      5\u001b[0m     bgf,\n\u001b[1;32m      6\u001b[0m     days_since_birth,\n\u001b[1;32m      7\u001b[0m     sp_trans,\n\u001b[1;32m      8\u001b[0m     RawFeatures\u001b[39m.\u001b[39;49mTRANSACTION_DATE\n\u001b[1;32m      9\u001b[0m )\n\u001b[1;32m     10\u001b[0m plt\u001b[39m.\u001b[39mshow()\n",
      "File \u001b[0;32m/opt/mamba/lib/python3.10/site-packages/lifetimes/plotting.py:384\u001b[0m, in \u001b[0;36mplot_history_alive\u001b[0;34m(model, t, transactions, datetime_col, freq, start_date, ax, **kwargs)\u001b[0m\n\u001b[1;32m    382\u001b[0m plt\u001b[39m.\u001b[39mylim(\u001b[39m0\u001b[39m, \u001b[39m1.0\u001b[39m)\n\u001b[1;32m    383\u001b[0m plt\u001b[39m.\u001b[39myticks(np\u001b[39m.\u001b[39marange(\u001b[39m0\u001b[39m, \u001b[39m1.1\u001b[39m, \u001b[39m0.1\u001b[39m))\n\u001b[0;32m--> 384\u001b[0m plt\u001b[39m.\u001b[39;49mxlim(start_date, path_dates[\u001b[39m-\u001b[39;49m\u001b[39m1\u001b[39;49m])\n\u001b[1;32m    385\u001b[0m plt\u001b[39m.\u001b[39mlegend(loc\u001b[39m=\u001b[39m\u001b[39m3\u001b[39m)\n\u001b[1;32m    386\u001b[0m plt\u001b[39m.\u001b[39mylabel(\u001b[39m\"\u001b[39m\u001b[39mP_alive\u001b[39m\u001b[39m\"\u001b[39m)\n",
      "File \u001b[0;32m/opt/mamba/lib/python3.10/site-packages/matplotlib/pyplot.py:1794\u001b[0m, in \u001b[0;36mxlim\u001b[0;34m(*args, **kwargs)\u001b[0m\n\u001b[1;32m   1792\u001b[0m \u001b[39mif\u001b[39;00m \u001b[39mnot\u001b[39;00m args \u001b[39mand\u001b[39;00m \u001b[39mnot\u001b[39;00m kwargs:\n\u001b[1;32m   1793\u001b[0m     \u001b[39mreturn\u001b[39;00m ax\u001b[39m.\u001b[39mget_xlim()\n\u001b[0;32m-> 1794\u001b[0m ret \u001b[39m=\u001b[39m ax\u001b[39m.\u001b[39;49mset_xlim(\u001b[39m*\u001b[39;49margs, \u001b[39m*\u001b[39;49m\u001b[39m*\u001b[39;49mkwargs)\n\u001b[1;32m   1795\u001b[0m \u001b[39mreturn\u001b[39;00m ret\n",
      "File \u001b[0;32m/opt/mamba/lib/python3.10/site-packages/matplotlib/_api/deprecation.py:454\u001b[0m, in \u001b[0;36mmake_keyword_only.<locals>.wrapper\u001b[0;34m(*args, **kwargs)\u001b[0m\n\u001b[1;32m    448\u001b[0m \u001b[39mif\u001b[39;00m \u001b[39mlen\u001b[39m(args) \u001b[39m>\u001b[39m name_idx:\n\u001b[1;32m    449\u001b[0m     warn_deprecated(\n\u001b[1;32m    450\u001b[0m         since, message\u001b[39m=\u001b[39m\u001b[39m\"\u001b[39m\u001b[39mPassing the \u001b[39m\u001b[39m%(name)s\u001b[39;00m\u001b[39m \u001b[39m\u001b[39m%(obj_type)s\u001b[39;00m\u001b[39m \u001b[39m\u001b[39m\"\u001b[39m\n\u001b[1;32m    451\u001b[0m         \u001b[39m\"\u001b[39m\u001b[39mpositionally is deprecated since Matplotlib \u001b[39m\u001b[39m%(since)s\u001b[39;00m\u001b[39m; the \u001b[39m\u001b[39m\"\u001b[39m\n\u001b[1;32m    452\u001b[0m         \u001b[39m\"\u001b[39m\u001b[39mparameter will become keyword-only \u001b[39m\u001b[39m%(removal)s\u001b[39;00m\u001b[39m.\u001b[39m\u001b[39m\"\u001b[39m,\n\u001b[1;32m    453\u001b[0m         name\u001b[39m=\u001b[39mname, obj_type\u001b[39m=\u001b[39m\u001b[39mf\u001b[39m\u001b[39m\"\u001b[39m\u001b[39mparameter of \u001b[39m\u001b[39m{\u001b[39;00mfunc\u001b[39m.\u001b[39m\u001b[39m__name__\u001b[39m\u001b[39m}\u001b[39;00m\u001b[39m()\u001b[39m\u001b[39m\"\u001b[39m)\n\u001b[0;32m--> 454\u001b[0m \u001b[39mreturn\u001b[39;00m func(\u001b[39m*\u001b[39;49margs, \u001b[39m*\u001b[39;49m\u001b[39m*\u001b[39;49mkwargs)\n",
      "File \u001b[0;32m/opt/mamba/lib/python3.10/site-packages/matplotlib/axes/_base.py:3650\u001b[0m, in \u001b[0;36m_AxesBase.set_xlim\u001b[0;34m(self, left, right, emit, auto, xmin, xmax)\u001b[0m\n\u001b[1;32m   3648\u001b[0m         \u001b[39mraise\u001b[39;00m \u001b[39mTypeError\u001b[39;00m(\u001b[39m\"\u001b[39m\u001b[39mCannot pass both \u001b[39m\u001b[39m'\u001b[39m\u001b[39mright\u001b[39m\u001b[39m'\u001b[39m\u001b[39m and \u001b[39m\u001b[39m'\u001b[39m\u001b[39mxmax\u001b[39m\u001b[39m'\u001b[39m\u001b[39m\"\u001b[39m)\n\u001b[1;32m   3649\u001b[0m     right \u001b[39m=\u001b[39m xmax\n\u001b[0;32m-> 3650\u001b[0m \u001b[39mreturn\u001b[39;00m \u001b[39mself\u001b[39;49m\u001b[39m.\u001b[39;49mxaxis\u001b[39m.\u001b[39;49m_set_lim(left, right, emit\u001b[39m=\u001b[39;49memit, auto\u001b[39m=\u001b[39;49mauto)\n",
      "File \u001b[0;32m/opt/mamba/lib/python3.10/site-packages/matplotlib/axis.py:1184\u001b[0m, in \u001b[0;36mAxis._set_lim\u001b[0;34m(self, v0, v1, emit, auto)\u001b[0m\n\u001b[1;32m   1180\u001b[0m name, \u001b[39m=\u001b[39m [name \u001b[39mfor\u001b[39;00m name, axis \u001b[39min\u001b[39;00m \u001b[39mself\u001b[39m\u001b[39m.\u001b[39maxes\u001b[39m.\u001b[39m_axis_map\u001b[39m.\u001b[39mitems()\n\u001b[1;32m   1181\u001b[0m          \u001b[39mif\u001b[39;00m axis \u001b[39mis\u001b[39;00m \u001b[39mself\u001b[39m]  \u001b[39m# The axis name.\u001b[39;00m\n\u001b[1;32m   1183\u001b[0m \u001b[39mself\u001b[39m\u001b[39m.\u001b[39maxes\u001b[39m.\u001b[39m_process_unit_info([(name, (v0, v1))], convert\u001b[39m=\u001b[39m\u001b[39mFalse\u001b[39;00m)\n\u001b[0;32m-> 1184\u001b[0m v0 \u001b[39m=\u001b[39m \u001b[39mself\u001b[39;49m\u001b[39m.\u001b[39;49maxes\u001b[39m.\u001b[39;49m_validate_converted_limits(v0, \u001b[39mself\u001b[39;49m\u001b[39m.\u001b[39;49mconvert_units)\n\u001b[1;32m   1185\u001b[0m v1 \u001b[39m=\u001b[39m \u001b[39mself\u001b[39m\u001b[39m.\u001b[39maxes\u001b[39m.\u001b[39m_validate_converted_limits(v1, \u001b[39mself\u001b[39m\u001b[39m.\u001b[39mconvert_units)\n\u001b[1;32m   1187\u001b[0m \u001b[39mif\u001b[39;00m v0 \u001b[39mis\u001b[39;00m \u001b[39mNone\u001b[39;00m \u001b[39mor\u001b[39;00m v1 \u001b[39mis\u001b[39;00m \u001b[39mNone\u001b[39;00m:\n\u001b[1;32m   1188\u001b[0m     \u001b[39m# Axes init calls set_xlim(0, 1) before get_xlim() can be called,\u001b[39;00m\n\u001b[1;32m   1189\u001b[0m     \u001b[39m# so only grab the limits if we really need them.\u001b[39;00m\n",
      "File \u001b[0;32m/opt/mamba/lib/python3.10/site-packages/matplotlib/axes/_base.py:3567\u001b[0m, in \u001b[0;36m_AxesBase._validate_converted_limits\u001b[0;34m(self, limit, convert)\u001b[0m\n\u001b[1;32m   3557\u001b[0m \u001b[39m\u001b[39m\u001b[39m\"\"\"\u001b[39;00m\n\u001b[1;32m   3558\u001b[0m \u001b[39mRaise ValueError if converted limits are non-finite.\u001b[39;00m\n\u001b[1;32m   3559\u001b[0m \n\u001b[0;32m   (...)\u001b[0m\n\u001b[1;32m   3564\u001b[0m \u001b[39mThe limit value after call to convert(), or None if limit is None.\u001b[39;00m\n\u001b[1;32m   3565\u001b[0m \u001b[39m\"\"\"\u001b[39;00m\n\u001b[1;32m   3566\u001b[0m \u001b[39mif\u001b[39;00m limit \u001b[39mis\u001b[39;00m \u001b[39mnot\u001b[39;00m \u001b[39mNone\u001b[39;00m:\n\u001b[0;32m-> 3567\u001b[0m     converted_limit \u001b[39m=\u001b[39m convert(limit)\n\u001b[1;32m   3568\u001b[0m     \u001b[39mif\u001b[39;00m (\u001b[39misinstance\u001b[39m(converted_limit, Real)\n\u001b[1;32m   3569\u001b[0m             \u001b[39mand\u001b[39;00m \u001b[39mnot\u001b[39;00m np\u001b[39m.\u001b[39misfinite(converted_limit)):\n\u001b[1;32m   3570\u001b[0m         \u001b[39mraise\u001b[39;00m \u001b[39mValueError\u001b[39;00m(\u001b[39m\"\u001b[39m\u001b[39mAxis limits cannot be NaN or Inf\u001b[39m\u001b[39m\"\u001b[39m)\n",
      "File \u001b[0;32m/opt/mamba/lib/python3.10/site-packages/matplotlib/axis.py:1734\u001b[0m, in \u001b[0;36mAxis.convert_units\u001b[0;34m(self, x)\u001b[0m\n\u001b[1;32m   1732\u001b[0m     ret \u001b[39m=\u001b[39m \u001b[39mself\u001b[39m\u001b[39m.\u001b[39mconverter\u001b[39m.\u001b[39mconvert(x, \u001b[39mself\u001b[39m\u001b[39m.\u001b[39munits, \u001b[39mself\u001b[39m)\n\u001b[1;32m   1733\u001b[0m \u001b[39mexcept\u001b[39;00m \u001b[39mException\u001b[39;00m \u001b[39mas\u001b[39;00m e:\n\u001b[0;32m-> 1734\u001b[0m     \u001b[39mraise\u001b[39;00m munits\u001b[39m.\u001b[39mConversionError(\u001b[39m'\u001b[39m\u001b[39mFailed to convert value(s) to axis \u001b[39m\u001b[39m'\u001b[39m\n\u001b[1;32m   1735\u001b[0m                                  \u001b[39mf\u001b[39m\u001b[39m'\u001b[39m\u001b[39munits: \u001b[39m\u001b[39m{\u001b[39;00mx\u001b[39m!r}\u001b[39;00m\u001b[39m'\u001b[39m) \u001b[39mfrom\u001b[39;00m \u001b[39me\u001b[39;00m\n\u001b[1;32m   1736\u001b[0m \u001b[39mreturn\u001b[39;00m ret\n",
      "\u001b[0;31mConversionError\u001b[0m: Failed to convert value(s) to axis units: '2010-01-14 10:35'"
     ]
    },
    {
     "data": {
      "image/png": "[encoded data removed]",
      "text/plain": [
       "<Figure size 640x480 with 1 Axes>"
      ]
     },
     "metadata": {},
     "output_type": "display_data"
    }
   ],
   "source": [
    "customer_id = 14256.0\n",
    "days_since_birth = 1100\n",
    "sp_trans = df_transaction.loc[df_transaction[RawFeatures.CUSTOMER_ID] == customer_id]\n",
    "plot_history_alive(\n",
    "    bgf,\n",
    "    days_since_birth,\n",
    "    sp_trans,\n",
    "    RawFeatures.TRANSACTION_DATE\n",
    ")\n",
    "plt.show()"
   ]
  },
  {
   "cell_type": "code",
   "execution_count": null,
   "metadata": {},
   "outputs": [
    {
     "name": "stdout",
     "output_type": "stream",
     "text": [
      "Help on function plot_history_alive in module lifetimes.plotting:\n",
      "\n",
      "plot_history_alive(model, t, transactions, datetime_col, freq='D', start_date=None, ax=None, **kwargs)\n",
      "    Draw a graph showing the probability of being alive for a customer in time.\n",
      "    \n",
      "    Parameters\n",
      "    ----------\n",
      "    model: lifetimes model\n",
      "        A fitted lifetimes model.\n",
      "    t: int\n",
      "        the number of time units since the birth we want to draw the p_alive\n",
      "    transactions: pandas DataFrame\n",
      "        DataFrame containing the transactions history of the customer_id\n",
      "    datetime_col: str\n",
      "        The column in the transactions that denotes the datetime the purchase was made\n",
      "    freq: str, optional\n",
      "        Default 'D' for days. Other examples= 'W' for weekly\n",
      "    start_date: datetime, optional\n",
      "        Limit xaxis to start date\n",
      "    ax: matplotlib.AxesSubplot, optional\n",
      "        Using user axes\n",
      "    kwargs\n",
      "        Passed into the matplotlib.pyplot.plot command.\n",
      "    \n",
      "    Returns\n",
      "    -------\n",
      "    axes: matplotlib.AxesSubplot\n",
      "\n"
     ]
    }
   ],
   "source": [
    "help(plot_history_alive)"
   ]
  },
  {
   "cell_type": "code",
   "execution_count": null,
   "metadata": {},
   "outputs": [],
   "source": [
    "# plot_transaction_rate_heterogeneity(bgf);\n",
    "\n",
    "# plot_dropout_rate_heterogeneity(bgf);"
   ]
  },
  {
   "cell_type": "code",
   "execution_count": null,
   "metadata": {},
   "outputs": [],
   "source": [
    "# fig = plt.figure(figsize=(12, 6))\n",
    "# plot_frequency_recency_matrix(bgf, T = 7)\n",
    "\n",
    "# fig = plt.figure(figsize=(12, 6))\n",
    "# plot_probability_alive_matrix(bgf)\n",
    "\n",
    "# plt.show()"
   ]
  },
  {
   "cell_type": "code",
   "execution_count": null,
   "metadata": {},
   "outputs": [],
   "source": [
    "# plot actual vs predicted frequency during the holdout period\n",
    "# n represents the max frequency values to be plotted on the x-axis\n",
    "\n",
    "plot_calibration_purchases_vs_holdout_purchases(\n",
    "\tbgf_cal,\n",
    "\tsummary_cal_holdout,\n",
    "\tn=int(summary_cal_holdout['frequency_holdout'].max()),\n",
    "\tfigsize = (8, 5)\n",
    ")\n",
    "plt.show();"
   ]
  },
  {
   "cell_type": "code",
   "execution_count": null,
   "metadata": {},
   "outputs": [],
   "source": []
  }
 ],
 "metadata": {
  "kernelspec": {
   "display_name": "base",
   "language": "python",
   "name": "python3"
  },
  "language_info": {
   "codemirror_mode": {
    "name": "ipython",
    "version": 3
   },
   "file_extension": ".py",
   "mimetype": "text/x-python",
   "name": "python",
   "nbconvert_exporter": "python",
   "pygments_lexer": "ipython3",
   "version": "3.10.9"
  },
  "orig_nbformat": 4
 },
 "nbformat": 4,
 "nbformat_minor": 2
}
